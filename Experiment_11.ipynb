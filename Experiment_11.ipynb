{
 "cells": [
  {
   "cell_type": "code",
   "execution_count": 1,
   "id": "a8eb937a",
   "metadata": {},
   "outputs": [],
   "source": [
    "import pandas as pd\n",
    "import numpy as np"
   ]
  },
  {
   "cell_type": "code",
   "execution_count": 2,
   "id": "6c0688a8",
   "metadata": {},
   "outputs": [],
   "source": [
    "from sklearn.impute import SimpleImputer\n",
    "\n",
    "data_uni_2 = pd.read_csv(\"data_uni.csv\")\n",
    "\n",
    "data_uni_2.iloc[:, [24,25,29]]= data_uni_2.iloc[:, [24,25,29]].fillna(0)\n",
    "column_miss= list(data_uni_2.columns[data_uni_2.isnull().any()])\n",
    "\n",
    "# IMPUTER ===========================================================================\n",
    "\n",
    "imputer = SimpleImputer(missing_values=np.nan, strategy='most_frequent')\n",
    "\n",
    "data_uni_2[column_miss]= imputer.fit_transform(data_uni_2[column_miss])\n",
    "\n",
    "data_uni_2= data_uni_2.drop([\"Course\",\"AWM year 1\", \"AWM year 2\", \"AWM year 3\", \"Overall AWM\"], axis = 1)\n",
    "\n",
    "# FORMATING MANUALLY ================================================================\n",
    "\n",
    "#ethinicty binarisation \n",
    "data_uni_2.Ethnicity = data_uni_2.Ethnicity.str.replace(\"White\", \"0\")\n",
    "data_uni_2.Ethnicity = data_uni_2.Ethnicity.str.replace(\"Asian\", \"1\")\n",
    "data_uni_2.Ethnicity = data_uni_2.Ethnicity.str.replace(\"Black/Black British African\", \"1\")\n",
    "data_uni_2.Ethnicity = data_uni_2.Ethnicity.str.replace(\"Other ethnic background\", \"1\")\n",
    "\n",
    "# Polar 4 Score Binarisation\n",
    "data_uni_2.Polar_4_Score = data_uni_2.Polar_4_Score.replace(5, 0)\n",
    "data_uni_2.Polar_4_Score = data_uni_2.Polar_4_Score.replace(4, 0)\n",
    "data_uni_2.Polar_4_Score = data_uni_2.Polar_4_Score.replace(3, 0)\n",
    "data_uni_2.Polar_4_Score = data_uni_2.Polar_4_Score.replace(2, 1)\n",
    "\n",
    "#splitting X and y ==================================================================\n",
    "y = data_uni_2[\"desertion\"]\n",
    "X = data_uni_2.drop([\"desertion\"], axis = 1)\n"
   ]
  },
  {
   "cell_type": "markdown",
   "id": "1af1760f",
   "metadata": {},
   "source": [
    "### Categorical and numeric features"
   ]
  },
  {
   "cell_type": "code",
   "execution_count": 3,
   "id": "ce7eff1b",
   "metadata": {},
   "outputs": [
    {
     "data": {
      "text/plain": [
       "Index(['UCAS', '25 Above', 'Disability', 'Ethnicity', 'Gender', 'British',\n",
       "       'English native Language', 'Parent He attendance', 'Polar_4_Score',\n",
       "       'SLC', 'Care Leaver', 'Student Visa', 'Refugee',\n",
       "       'London Permanent Residence', 'UCAS Points', 'English', 'Maths',\n",
       "       'A Levels', 'Btec', 'Previous work', 'Bursary', 'Attendance',\n",
       "       'Progression', 'First Sit', 'Second Sit', 'Fails', 'No Submissions',\n",
       "       'Late Submission', 'Pass', 'Re Takes'],\n",
       "      dtype='object')"
      ]
     },
     "execution_count": 3,
     "metadata": {},
     "output_type": "execute_result"
    }
   ],
   "source": [
    "X.columns"
   ]
  },
  {
   "cell_type": "code",
   "execution_count": 4,
   "id": "1127d093",
   "metadata": {},
   "outputs": [],
   "source": [
    "fe_num= ['UCAS Points', 'English', 'Maths', 'Attendance', 'First Sit', \n",
    "         'Second Sit', 'Fails', 'No Submissions', 'Late Submission',\n",
    "        'Pass']"
   ]
  },
  {
   "cell_type": "code",
   "execution_count": 5,
   "id": "5cab221b",
   "metadata": {},
   "outputs": [],
   "source": [
    "fe_cat= ['UCAS', '25 Above', 'Disability', 'Ethnicity', 'Gender',\n",
    "       'British', 'English native Language', 'Parent He attendance',\n",
    "       'Polar_4_Score', 'SLC', 'Care Leaver', 'Student Visa', 'Refugee',\n",
    "       'London Permanent Residence', 'A Levels', 'Btec', 'Previous work', 'Bursary',\n",
    "        'Progression', 'Re Takes']"
   ]
  },
  {
   "cell_type": "markdown",
   "id": "9d282599",
   "metadata": {},
   "source": [
    "## Scaling"
   ]
  },
  {
   "cell_type": "code",
   "execution_count": 6,
   "id": "797fff3b",
   "metadata": {},
   "outputs": [],
   "source": [
    "# we are going to scale just the continous ones which are\n",
    "fe_num_cont= ['UCAS Points', 'Attendance', 'Pass']\n",
    "\n",
    "# let the following without changes\n",
    "fe_num_no= ['English','Maths', 'First Sit', 'Second Sit', 'Fails', 'No Submissions', 'Late Submission']"
   ]
  },
  {
   "cell_type": "code",
   "execution_count": 7,
   "id": "41284e07",
   "metadata": {},
   "outputs": [],
   "source": [
    "from sklearn.preprocessing import StandardScaler\n",
    "\n",
    "sc = StandardScaler()\n",
    "\n",
    "x_num_cont= pd.DataFrame(sc.fit_transform(X[fe_num_cont]))\n",
    "x_num_cont.columns= X[fe_num_cont].columns\n",
    "#x_num_cont"
   ]
  },
  {
   "cell_type": "code",
   "execution_count": 8,
   "id": "9552ae07",
   "metadata": {},
   "outputs": [],
   "source": [
    "X_num = pd.concat((x_num_cont, X[fe_num_no]), axis =1)\n",
    "#X_num"
   ]
  },
  {
   "cell_type": "markdown",
   "id": "024de8c0",
   "metadata": {},
   "source": [
    "## OneHotEncoder"
   ]
  },
  {
   "cell_type": "code",
   "execution_count": 9,
   "id": "e33adb26",
   "metadata": {},
   "outputs": [],
   "source": [
    "from sklearn.preprocessing import OneHotEncoder\n",
    "\n",
    "enc = OneHotEncoder(handle_unknown= \"error\", sparse = False, drop = \"if_binary\")\n",
    "X_cat = pd.DataFrame(enc.fit_transform(X[fe_cat]))\n",
    "X_cat.columns= enc.get_feature_names_out()\n",
    "#X_cat"
   ]
  },
  {
   "cell_type": "code",
   "execution_count": 10,
   "id": "f90fa93b",
   "metadata": {},
   "outputs": [],
   "source": [
    "x_num_cat= pd.concat((X_num, X_cat), axis =1)\n",
    "#x_num_cat"
   ]
  },
  {
   "cell_type": "markdown",
   "id": "c0d6395b",
   "metadata": {},
   "source": [
    "## y encoder"
   ]
  },
  {
   "cell_type": "code",
   "execution_count": 11,
   "id": "50389ddd",
   "metadata": {},
   "outputs": [],
   "source": [
    "#Encoding dependent Variable\n",
    "from sklearn.preprocessing import LabelEncoder\n",
    "\n",
    "le = LabelEncoder()\n",
    "y_enc = le.fit_transform(y)\n",
    "y_enc= pd.DataFrame(y_enc, columns=[\"desertion\"])\n",
    "#y_enc"
   ]
  },
  {
   "cell_type": "code",
   "execution_count": 12,
   "id": "765b2d00",
   "metadata": {},
   "outputs": [
    {
     "data": {
      "text/html": [
       "<div>\n",
       "<style scoped>\n",
       "    .dataframe tbody tr th:only-of-type {\n",
       "        vertical-align: middle;\n",
       "    }\n",
       "\n",
       "    .dataframe tbody tr th {\n",
       "        vertical-align: top;\n",
       "    }\n",
       "\n",
       "    .dataframe thead th {\n",
       "        text-align: right;\n",
       "    }\n",
       "</style>\n",
       "<table border=\"1\" class=\"dataframe\">\n",
       "  <thead>\n",
       "    <tr style=\"text-align: right;\">\n",
       "      <th></th>\n",
       "      <th>desertion</th>\n",
       "    </tr>\n",
       "  </thead>\n",
       "  <tbody>\n",
       "    <tr>\n",
       "      <th>0</th>\n",
       "      <td>0</td>\n",
       "    </tr>\n",
       "    <tr>\n",
       "      <th>1</th>\n",
       "      <td>1</td>\n",
       "    </tr>\n",
       "    <tr>\n",
       "      <th>2</th>\n",
       "      <td>1</td>\n",
       "    </tr>\n",
       "    <tr>\n",
       "      <th>3</th>\n",
       "      <td>1</td>\n",
       "    </tr>\n",
       "    <tr>\n",
       "      <th>4</th>\n",
       "      <td>0</td>\n",
       "    </tr>\n",
       "    <tr>\n",
       "      <th>...</th>\n",
       "      <td>...</td>\n",
       "    </tr>\n",
       "    <tr>\n",
       "      <th>1028</th>\n",
       "      <td>1</td>\n",
       "    </tr>\n",
       "    <tr>\n",
       "      <th>1029</th>\n",
       "      <td>0</td>\n",
       "    </tr>\n",
       "    <tr>\n",
       "      <th>1030</th>\n",
       "      <td>1</td>\n",
       "    </tr>\n",
       "    <tr>\n",
       "      <th>1031</th>\n",
       "      <td>0</td>\n",
       "    </tr>\n",
       "    <tr>\n",
       "      <th>1032</th>\n",
       "      <td>0</td>\n",
       "    </tr>\n",
       "  </tbody>\n",
       "</table>\n",
       "<p>1033 rows × 1 columns</p>\n",
       "</div>"
      ],
      "text/plain": [
       "      desertion\n",
       "0             0\n",
       "1             1\n",
       "2             1\n",
       "3             1\n",
       "4             0\n",
       "...         ...\n",
       "1028          1\n",
       "1029          0\n",
       "1030          1\n",
       "1031          0\n",
       "1032          0\n",
       "\n",
       "[1033 rows x 1 columns]"
      ]
     },
     "execution_count": 12,
     "metadata": {},
     "output_type": "execute_result"
    }
   ],
   "source": [
    "y_enc"
   ]
  },
  {
   "cell_type": "markdown",
   "id": "644b59ca",
   "metadata": {},
   "source": [
    "# Feature Selection"
   ]
  },
  {
   "cell_type": "code",
   "execution_count": 13,
   "id": "27daa9af",
   "metadata": {},
   "outputs": [
    {
     "data": {
      "text/html": [
       "<div>\n",
       "<style scoped>\n",
       "    .dataframe tbody tr th:only-of-type {\n",
       "        vertical-align: middle;\n",
       "    }\n",
       "\n",
       "    .dataframe tbody tr th {\n",
       "        vertical-align: top;\n",
       "    }\n",
       "\n",
       "    .dataframe thead th {\n",
       "        text-align: right;\n",
       "    }\n",
       "</style>\n",
       "<table border=\"1\" class=\"dataframe\">\n",
       "  <thead>\n",
       "    <tr style=\"text-align: right;\">\n",
       "      <th></th>\n",
       "      <th>UCAS Points</th>\n",
       "      <th>Attendance</th>\n",
       "      <th>Pass</th>\n",
       "      <th>English</th>\n",
       "      <th>Maths</th>\n",
       "      <th>First Sit</th>\n",
       "      <th>Second Sit</th>\n",
       "      <th>Fails</th>\n",
       "      <th>No Submissions</th>\n",
       "      <th>Late Submission</th>\n",
       "      <th>...</th>\n",
       "      <th>Student Visa_yes</th>\n",
       "      <th>Refugee_yes</th>\n",
       "      <th>London Permanent Residence_yes</th>\n",
       "      <th>A Levels_yes</th>\n",
       "      <th>Btec_yes</th>\n",
       "      <th>Previous work_yes</th>\n",
       "      <th>Bursary_yes</th>\n",
       "      <th>Progression_yes</th>\n",
       "      <th>Re Takes_yes</th>\n",
       "      <th>desertion</th>\n",
       "    </tr>\n",
       "  </thead>\n",
       "  <tbody>\n",
       "    <tr>\n",
       "      <th>0</th>\n",
       "      <td>-0.524646</td>\n",
       "      <td>0.693727</td>\n",
       "      <td>0.420941</td>\n",
       "      <td>5.0</td>\n",
       "      <td>4.0</td>\n",
       "      <td>3</td>\n",
       "      <td>3.0</td>\n",
       "      <td>0</td>\n",
       "      <td>2</td>\n",
       "      <td>2</td>\n",
       "      <td>...</td>\n",
       "      <td>1.0</td>\n",
       "      <td>0.0</td>\n",
       "      <td>1.0</td>\n",
       "      <td>1.0</td>\n",
       "      <td>0.0</td>\n",
       "      <td>1.0</td>\n",
       "      <td>0.0</td>\n",
       "      <td>1.0</td>\n",
       "      <td>1.0</td>\n",
       "      <td>0</td>\n",
       "    </tr>\n",
       "    <tr>\n",
       "      <th>1</th>\n",
       "      <td>-0.373711</td>\n",
       "      <td>-1.276930</td>\n",
       "      <td>-0.423655</td>\n",
       "      <td>5.0</td>\n",
       "      <td>5.0</td>\n",
       "      <td>1</td>\n",
       "      <td>2.0</td>\n",
       "      <td>5</td>\n",
       "      <td>3</td>\n",
       "      <td>0</td>\n",
       "      <td>...</td>\n",
       "      <td>0.0</td>\n",
       "      <td>0.0</td>\n",
       "      <td>0.0</td>\n",
       "      <td>1.0</td>\n",
       "      <td>0.0</td>\n",
       "      <td>1.0</td>\n",
       "      <td>1.0</td>\n",
       "      <td>0.0</td>\n",
       "      <td>0.0</td>\n",
       "      <td>1</td>\n",
       "    </tr>\n",
       "    <tr>\n",
       "      <th>2</th>\n",
       "      <td>1.035022</td>\n",
       "      <td>-1.149791</td>\n",
       "      <td>0.420941</td>\n",
       "      <td>4.0</td>\n",
       "      <td>4.0</td>\n",
       "      <td>6</td>\n",
       "      <td>0.0</td>\n",
       "      <td>0</td>\n",
       "      <td>0</td>\n",
       "      <td>0</td>\n",
       "      <td>...</td>\n",
       "      <td>0.0</td>\n",
       "      <td>0.0</td>\n",
       "      <td>1.0</td>\n",
       "      <td>1.0</td>\n",
       "      <td>0.0</td>\n",
       "      <td>1.0</td>\n",
       "      <td>0.0</td>\n",
       "      <td>1.0</td>\n",
       "      <td>0.0</td>\n",
       "      <td>1</td>\n",
       "    </tr>\n",
       "    <tr>\n",
       "      <th>3</th>\n",
       "      <td>0.079096</td>\n",
       "      <td>-1.721917</td>\n",
       "      <td>0.420941</td>\n",
       "      <td>9.0</td>\n",
       "      <td>8.0</td>\n",
       "      <td>6</td>\n",
       "      <td>0.0</td>\n",
       "      <td>0</td>\n",
       "      <td>0</td>\n",
       "      <td>0</td>\n",
       "      <td>...</td>\n",
       "      <td>0.0</td>\n",
       "      <td>0.0</td>\n",
       "      <td>1.0</td>\n",
       "      <td>1.0</td>\n",
       "      <td>0.0</td>\n",
       "      <td>1.0</td>\n",
       "      <td>0.0</td>\n",
       "      <td>1.0</td>\n",
       "      <td>0.0</td>\n",
       "      <td>1</td>\n",
       "    </tr>\n",
       "    <tr>\n",
       "      <th>4</th>\n",
       "      <td>1.085334</td>\n",
       "      <td>0.503018</td>\n",
       "      <td>0.420941</td>\n",
       "      <td>6.0</td>\n",
       "      <td>5.0</td>\n",
       "      <td>4</td>\n",
       "      <td>2.0</td>\n",
       "      <td>0</td>\n",
       "      <td>2</td>\n",
       "      <td>0</td>\n",
       "      <td>...</td>\n",
       "      <td>0.0</td>\n",
       "      <td>0.0</td>\n",
       "      <td>1.0</td>\n",
       "      <td>1.0</td>\n",
       "      <td>0.0</td>\n",
       "      <td>1.0</td>\n",
       "      <td>0.0</td>\n",
       "      <td>1.0</td>\n",
       "      <td>0.0</td>\n",
       "      <td>0</td>\n",
       "    </tr>\n",
       "    <tr>\n",
       "      <th>...</th>\n",
       "      <td>...</td>\n",
       "      <td>...</td>\n",
       "      <td>...</td>\n",
       "      <td>...</td>\n",
       "      <td>...</td>\n",
       "      <td>...</td>\n",
       "      <td>...</td>\n",
       "      <td>...</td>\n",
       "      <td>...</td>\n",
       "      <td>...</td>\n",
       "      <td>...</td>\n",
       "      <td>...</td>\n",
       "      <td>...</td>\n",
       "      <td>...</td>\n",
       "      <td>...</td>\n",
       "      <td>...</td>\n",
       "      <td>...</td>\n",
       "      <td>...</td>\n",
       "      <td>...</td>\n",
       "      <td>...</td>\n",
       "      <td>...</td>\n",
       "    </tr>\n",
       "    <tr>\n",
       "      <th>1028</th>\n",
       "      <td>-0.323399</td>\n",
       "      <td>-1.276930</td>\n",
       "      <td>0.420941</td>\n",
       "      <td>4.0</td>\n",
       "      <td>4.0</td>\n",
       "      <td>6</td>\n",
       "      <td>0.0</td>\n",
       "      <td>0</td>\n",
       "      <td>0</td>\n",
       "      <td>1</td>\n",
       "      <td>...</td>\n",
       "      <td>0.0</td>\n",
       "      <td>0.0</td>\n",
       "      <td>0.0</td>\n",
       "      <td>1.0</td>\n",
       "      <td>0.0</td>\n",
       "      <td>1.0</td>\n",
       "      <td>0.0</td>\n",
       "      <td>1.0</td>\n",
       "      <td>0.0</td>\n",
       "      <td>1</td>\n",
       "    </tr>\n",
       "    <tr>\n",
       "      <th>1029</th>\n",
       "      <td>0.028784</td>\n",
       "      <td>-0.577665</td>\n",
       "      <td>0.420941</td>\n",
       "      <td>4.0</td>\n",
       "      <td>4.0</td>\n",
       "      <td>6</td>\n",
       "      <td>0.0</td>\n",
       "      <td>0</td>\n",
       "      <td>0</td>\n",
       "      <td>0</td>\n",
       "      <td>...</td>\n",
       "      <td>0.0</td>\n",
       "      <td>0.0</td>\n",
       "      <td>1.0</td>\n",
       "      <td>1.0</td>\n",
       "      <td>0.0</td>\n",
       "      <td>1.0</td>\n",
       "      <td>0.0</td>\n",
       "      <td>1.0</td>\n",
       "      <td>0.0</td>\n",
       "      <td>0</td>\n",
       "    </tr>\n",
       "    <tr>\n",
       "      <th>1030</th>\n",
       "      <td>-0.222775</td>\n",
       "      <td>-2.103334</td>\n",
       "      <td>-2.957443</td>\n",
       "      <td>6.0</td>\n",
       "      <td>5.0</td>\n",
       "      <td>1</td>\n",
       "      <td>1.0</td>\n",
       "      <td>2</td>\n",
       "      <td>4</td>\n",
       "      <td>1</td>\n",
       "      <td>...</td>\n",
       "      <td>0.0</td>\n",
       "      <td>0.0</td>\n",
       "      <td>0.0</td>\n",
       "      <td>1.0</td>\n",
       "      <td>0.0</td>\n",
       "      <td>1.0</td>\n",
       "      <td>0.0</td>\n",
       "      <td>0.0</td>\n",
       "      <td>1.0</td>\n",
       "      <td>1</td>\n",
       "    </tr>\n",
       "    <tr>\n",
       "      <th>1031</th>\n",
       "      <td>-0.373711</td>\n",
       "      <td>-0.959082</td>\n",
       "      <td>0.420941</td>\n",
       "      <td>6.0</td>\n",
       "      <td>6.0</td>\n",
       "      <td>6</td>\n",
       "      <td>0.0</td>\n",
       "      <td>0</td>\n",
       "      <td>0</td>\n",
       "      <td>0</td>\n",
       "      <td>...</td>\n",
       "      <td>0.0</td>\n",
       "      <td>0.0</td>\n",
       "      <td>0.0</td>\n",
       "      <td>0.0</td>\n",
       "      <td>1.0</td>\n",
       "      <td>0.0</td>\n",
       "      <td>0.0</td>\n",
       "      <td>1.0</td>\n",
       "      <td>0.0</td>\n",
       "      <td>0</td>\n",
       "    </tr>\n",
       "    <tr>\n",
       "      <th>1032</th>\n",
       "      <td>-0.222775</td>\n",
       "      <td>-0.259817</td>\n",
       "      <td>0.420941</td>\n",
       "      <td>8.0</td>\n",
       "      <td>4.0</td>\n",
       "      <td>6</td>\n",
       "      <td>0.0</td>\n",
       "      <td>0</td>\n",
       "      <td>0</td>\n",
       "      <td>0</td>\n",
       "      <td>...</td>\n",
       "      <td>1.0</td>\n",
       "      <td>0.0</td>\n",
       "      <td>0.0</td>\n",
       "      <td>0.0</td>\n",
       "      <td>0.0</td>\n",
       "      <td>0.0</td>\n",
       "      <td>0.0</td>\n",
       "      <td>1.0</td>\n",
       "      <td>0.0</td>\n",
       "      <td>0</td>\n",
       "    </tr>\n",
       "  </tbody>\n",
       "</table>\n",
       "<p>1033 rows × 33 columns</p>\n",
       "</div>"
      ],
      "text/plain": [
       "      UCAS Points  Attendance      Pass English Maths  First Sit  Second Sit  \\\n",
       "0       -0.524646    0.693727  0.420941     5.0   4.0          3         3.0   \n",
       "1       -0.373711   -1.276930 -0.423655     5.0   5.0          1         2.0   \n",
       "2        1.035022   -1.149791  0.420941     4.0   4.0          6         0.0   \n",
       "3        0.079096   -1.721917  0.420941     9.0   8.0          6         0.0   \n",
       "4        1.085334    0.503018  0.420941     6.0   5.0          4         2.0   \n",
       "...           ...         ...       ...     ...   ...        ...         ...   \n",
       "1028    -0.323399   -1.276930  0.420941     4.0   4.0          6         0.0   \n",
       "1029     0.028784   -0.577665  0.420941     4.0   4.0          6         0.0   \n",
       "1030    -0.222775   -2.103334 -2.957443     6.0   5.0          1         1.0   \n",
       "1031    -0.373711   -0.959082  0.420941     6.0   6.0          6         0.0   \n",
       "1032    -0.222775   -0.259817  0.420941     8.0   4.0          6         0.0   \n",
       "\n",
       "      Fails  No Submissions  Late Submission  ...  Student Visa_yes  \\\n",
       "0         0               2                2  ...               1.0   \n",
       "1         5               3                0  ...               0.0   \n",
       "2         0               0                0  ...               0.0   \n",
       "3         0               0                0  ...               0.0   \n",
       "4         0               2                0  ...               0.0   \n",
       "...     ...             ...              ...  ...               ...   \n",
       "1028      0               0                1  ...               0.0   \n",
       "1029      0               0                0  ...               0.0   \n",
       "1030      2               4                1  ...               0.0   \n",
       "1031      0               0                0  ...               0.0   \n",
       "1032      0               0                0  ...               1.0   \n",
       "\n",
       "      Refugee_yes  London Permanent Residence_yes  A Levels_yes  Btec_yes  \\\n",
       "0             0.0                             1.0           1.0       0.0   \n",
       "1             0.0                             0.0           1.0       0.0   \n",
       "2             0.0                             1.0           1.0       0.0   \n",
       "3             0.0                             1.0           1.0       0.0   \n",
       "4             0.0                             1.0           1.0       0.0   \n",
       "...           ...                             ...           ...       ...   \n",
       "1028          0.0                             0.0           1.0       0.0   \n",
       "1029          0.0                             1.0           1.0       0.0   \n",
       "1030          0.0                             0.0           1.0       0.0   \n",
       "1031          0.0                             0.0           0.0       1.0   \n",
       "1032          0.0                             0.0           0.0       0.0   \n",
       "\n",
       "      Previous work_yes  Bursary_yes  Progression_yes  Re Takes_yes  desertion  \n",
       "0                   1.0          0.0              1.0           1.0          0  \n",
       "1                   1.0          1.0              0.0           0.0          1  \n",
       "2                   1.0          0.0              1.0           0.0          1  \n",
       "3                   1.0          0.0              1.0           0.0          1  \n",
       "4                   1.0          0.0              1.0           0.0          0  \n",
       "...                 ...          ...              ...           ...        ...  \n",
       "1028                1.0          0.0              1.0           0.0          1  \n",
       "1029                1.0          0.0              1.0           0.0          0  \n",
       "1030                1.0          0.0              0.0           1.0          1  \n",
       "1031                0.0          0.0              1.0           0.0          0  \n",
       "1032                0.0          0.0              1.0           0.0          0  \n",
       "\n",
       "[1033 rows x 33 columns]"
      ]
     },
     "execution_count": 13,
     "metadata": {},
     "output_type": "execute_result"
    }
   ],
   "source": [
    "data_prepro= pd.concat((x_num_cat, y_enc), axis =1)\n",
    "data_prepro"
   ]
  },
  {
   "cell_type": "code",
   "execution_count": 14,
   "id": "5da8c074",
   "metadata": {},
   "outputs": [
    {
     "name": "stdout",
     "output_type": "stream",
     "text": [
      "Imported 0.1.991 version. Select nrows to a small number when running on huge datasets.\n",
      "output = featurewiz(dataname, target, corr_limit=0.70, verbose=2, sep=',', \n",
      "\t\theader=0, test_data='',feature_engg='', category_encoders='',\n",
      "\t\tdask_xgboost_flag=False, nrows=None)\n",
      "Create new features via 'feature_engg' flag : ['interactions','groupby','target']\n",
      "\n",
      "############################################################################################\n",
      "############       F A S T   F E A T U R E  E N G G    A N D    S E L E C T I O N ! ########\n",
      "# Be judicious with featurewiz. Don't use it to create too many un-interpretable features! #\n",
      "############################################################################################\n",
      "Skipping feature engineering since no feature_engg input...\n",
      "Skipping category encoding since no category encoders specified in input...\n",
      "    Shape of your Data Set loaded: (1033, 33)\n",
      "    Loaded train data. Shape = (1033, 33)\n",
      "    Some column names had special characters which were removed...\n",
      "loading the entire test dataframe - there is no nrows limit applicable #########\n",
      "Dataname input must be a filename with path to that file or a Dataframe\n",
      "#######################################################################################\n",
      "######################## C L A S S I F Y I N G  V A R I A B L E S  ####################\n",
      "#######################################################################################\n",
      "        No variables were removed since no ID or low-information variables found in data set\n",
      "No GPU active on this device\n",
      "    Tuning XGBoost using CPU hyper-parameters. This will take time...\n",
      "    After removing redundant variables from further processing, features left = 32\n",
      "No interactions created for categorical vars since feature engg does not specify it\n",
      "#### Single_Label Binary_Classification problem ####\n",
      "#######################################################################################\n",
      "#####  Searching for Uncorrelated List Of Variables (SULOV) in 30 features ############\n",
      "#######################################################################################\n",
      "    there are no null values in dataset...\n",
      "    Removing (3) highly correlated variables:\n",
      "    ['SecondSit', 'ParentHeattendance_yes', 'Progression_yes']\n",
      "    Following (27) vars selected: ['UCASPoints', 'Attendance', 'NoSubmissions', 'LateSubmission', 'UCAS_yes', '25Above_yes', 'Disability_yes', 'Ethnicity_1', 'Gender_Male', 'British_yes', 'EnglishnativeLanguage_yes', 'ParentHeattendance_NO', 'Polar_4_Score_10', 'SLC_yes', 'CareLeaver_yes', 'StudentVisa_yes', 'Refugee_yes', 'LondonPermanentResidence_yes', 'ALevels_yes', 'Btec_yes', 'Previouswork_yes', 'Bursary_yes', 'ReTakes_yes', 'Fails', 'Pass', 'FirstSit', 'ParentHeattendance_no']\n"
     ]
    },
    {
     "data": {
      "image/png": "[encoded data removed]",
      "text/plain": [
       "<Figure size 1080x360 with 1 Axes>"
      ]
     },
     "metadata": {},
     "output_type": "display_data"
    },
    {
     "name": "stdout",
     "output_type": "stream",
     "text": [
      "Time taken for SULOV method = 0 seconds\n",
      "    Adding 2 categorical variables to reduced numeric variables  of 27\n",
      "Final list of selected vars after SULOV = 29\n",
      "Readying dataset for Recursive XGBoost by converting all features to numeric...\n",
      "    there were no mixed data types or object columns that errored. Data is all numeric...\n",
      "Shape of train data after pruning = (1033, 33)\n",
      "#######################################################################################\n",
      "#####    R E C U R S I V E   X G B O O S T : F E A T U R E   S E L E C T I O N  #######\n",
      "#######################################################################################\n",
      "    using regular XGBoost\n",
      "Current number of predictors = 29 \n",
      "    XGBoost version using 1.6.2 as tree method: hist\n",
      "Number of booster rounds = 100\n",
      "        using 29 variables...\n",
      "            Time taken for regular XGBoost feature selection = 0 seconds\n",
      "        using 23 variables...\n",
      "            Time taken for regular XGBoost feature selection = 0 seconds\n",
      "        using 17 variables...\n",
      "            Time taken for regular XGBoost feature selection = 0 seconds\n",
      "        using 11 variables...\n",
      "            Time taken for regular XGBoost feature selection = 0 seconds\n",
      "        using 5 variables...\n",
      "            Time taken for regular XGBoost feature selection = 0 seconds\n"
     ]
    },
    {
     "data": {
      "image/png": "[encoded data removed]",
      "text/plain": [
       "<Figure size 720x1080 with 6 Axes>"
      ]
     },
     "metadata": {
      "needs_background": "light"
     },
     "output_type": "display_data"
    },
    {
     "name": "stdout",
     "output_type": "stream",
     "text": [
      "    Completed XGBoost feature selection in 1 seconds\n",
      "#######################################################################################\n",
      "#####          F E A T U R E   S E L E C T I O N   C O M P L E T E D            #######\n",
      "#######################################################################################\n",
      "Selected 20 important features:\n",
      "['Attendance', 'Fails', '25Above_yes', 'Polar_4_Score_10', 'Refugee_yes', 'SLC_yes', 'Bursary_yes', 'Previouswork_yes', 'UCAS_yes', 'Ethnicity_1', 'ReTakes_yes', 'StudentVisa_yes', 'FirstSit', 'Disability_yes', 'ParentHeattendance_no', 'Btec_yes', 'English', 'ALevels_yes', 'Maths', 'Pass']\n",
      "Total Time taken for featurewiz selection = 2 seconds\n",
      "Output contains a list of 20 important features and a train dataframe\n"
     ]
    }
   ],
   "source": [
    "from featurewiz import featurewiz\n",
    "\n",
    "target = \"desertion\" \n",
    "\n",
    "features, data_full = featurewiz(data_prepro, target, corr_limit=0.8, verbose =2, sep=\",\", header= 0, test_data= 2, feature_engg= \"\", category_encoders=\"\")"
   ]
  },
  {
   "cell_type": "code",
   "execution_count": 15,
   "id": "97e4dd74",
   "metadata": {},
   "outputs": [],
   "source": [
    "X= data_full.drop([\"desertion\"], axis = 1)\n",
    "y= data_full['desertion']"
   ]
  },
  {
   "cell_type": "markdown",
   "id": "051e62f0",
   "metadata": {},
   "source": [
    "# PCA"
   ]
  },
  {
   "cell_type": "code",
   "execution_count": 16,
   "id": "7029ea51",
   "metadata": {},
   "outputs": [],
   "source": [
    "from sklearn.decomposition import PCA\n",
    "\n",
    "pca= PCA(n_components=0.9)\n",
    "\n",
    "X= pca.fit_transform(X)"
   ]
  },
  {
   "cell_type": "code",
   "execution_count": 17,
   "id": "4e2d5f37",
   "metadata": {},
   "outputs": [
    {
     "data": {
      "text/plain": [
       "array([[-0.26868865, -0.27759857, -1.31291435, ..., -0.53455961,\n",
       "        -0.21980622,  1.22107876],\n",
       "       [ 4.89483546,  1.27478451, -0.87622421, ...,  0.80110775,\n",
       "        -0.24788884,  0.12573432],\n",
       "       [-0.7840256 , -1.03378952,  1.64649303, ..., -0.03908854,\n",
       "        -0.41624248,  0.94825775],\n",
       "       ...,\n",
       "       [ 4.3179131 ,  1.94543139, -1.47491931, ..., -0.07389914,\n",
       "         0.34118929,  0.70626047],\n",
       "       [-1.33740867,  1.52202372,  1.49938451, ..., -0.80339021,\n",
       "         0.46277246,  0.57093227],\n",
       "       [-1.73137658,  1.91357666,  1.27455368, ..., -1.425275  ,\n",
       "         0.67453611,  0.42095397]])"
      ]
     },
     "execution_count": 17,
     "metadata": {},
     "output_type": "execute_result"
    }
   ],
   "source": [
    "X"
   ]
  },
  {
   "cell_type": "markdown",
   "id": "f3b98fe5",
   "metadata": {},
   "source": [
    "# Models"
   ]
  },
  {
   "cell_type": "markdown",
   "id": "0c300f07",
   "metadata": {},
   "source": [
    "We are gonna use the features selected by featurewiz \n",
    "1. cross validation \n",
    "2. train test split "
   ]
  },
  {
   "cell_type": "markdown",
   "id": "50a04d08",
   "metadata": {},
   "source": [
    "# 1. Cross Validation"
   ]
  },
  {
   "cell_type": "code",
   "execution_count": 18,
   "id": "25a8862c",
   "metadata": {},
   "outputs": [],
   "source": [
    "from sklearn.model_selection import cross_val_predict"
   ]
  },
  {
   "cell_type": "code",
   "execution_count": 19,
   "id": "a4f4e84b",
   "metadata": {},
   "outputs": [],
   "source": [
    "from sklearn.metrics import accuracy_score\n",
    "from sklearn.metrics import roc_auc_score\n",
    "from sklearn.metrics import recall_score\n",
    "from sklearn.metrics import precision_score\n",
    "from sklearn.metrics import f1_score"
   ]
  },
  {
   "cell_type": "code",
   "execution_count": 20,
   "id": "4f08a7e6",
   "metadata": {},
   "outputs": [],
   "source": [
    "def resume_m(y_real, y_pred, model):\n",
    "    \n",
    "    metrics= []\n",
    "    \n",
    "    metrics.append(accuracy_score(y_real, y_pred))   #acc\n",
    "    metrics.append(roc_auc_score(y_real, y_pred))    # auc\n",
    "    metrics.append(recall_score(y_real, y_pred))     #recall\n",
    "    metrics.append(precision_score(y_real, y_pred))  #precision\n",
    "    metrics.append(f1_score(y_real, y_pred))         #f1\n",
    "    \n",
    "    \n",
    "    g= pd.DataFrame(metrics).T\n",
    "    g.columns= ['Accuracy', 'AUC', 'Recall', 'Precision', 'F1']\n",
    "    \n",
    "    g= g.set_axis([model], axis='index')\n",
    "    \n",
    "    return g\n"
   ]
  },
  {
   "cell_type": "markdown",
   "id": "6bb4234a",
   "metadata": {},
   "source": [
    "## Random Forest"
   ]
  },
  {
   "cell_type": "code",
   "execution_count": 21,
   "id": "6a87c904",
   "metadata": {},
   "outputs": [],
   "source": [
    "from sklearn.ensemble import RandomForestClassifier\n",
    "\n",
    "rf= RandomForestClassifier()\n",
    "rf_y_pred = cross_val_predict(rf, X, y, cv=10)"
   ]
  },
  {
   "cell_type": "code",
   "execution_count": 22,
   "id": "ef2f3fac",
   "metadata": {
    "scrolled": true
   },
   "outputs": [
    {
     "data": {
      "text/html": [
       "<div>\n",
       "<style scoped>\n",
       "    .dataframe tbody tr th:only-of-type {\n",
       "        vertical-align: middle;\n",
       "    }\n",
       "\n",
       "    .dataframe tbody tr th {\n",
       "        vertical-align: top;\n",
       "    }\n",
       "\n",
       "    .dataframe thead th {\n",
       "        text-align: right;\n",
       "    }\n",
       "</style>\n",
       "<table border=\"1\" class=\"dataframe\">\n",
       "  <thead>\n",
       "    <tr style=\"text-align: right;\">\n",
       "      <th></th>\n",
       "      <th>Accuracy</th>\n",
       "      <th>AUC</th>\n",
       "      <th>Recall</th>\n",
       "      <th>Precision</th>\n",
       "      <th>F1</th>\n",
       "    </tr>\n",
       "  </thead>\n",
       "  <tbody>\n",
       "    <tr>\n",
       "      <th>RandomForest</th>\n",
       "      <td>0.958374</td>\n",
       "      <td>0.892448</td>\n",
       "      <td>0.797468</td>\n",
       "      <td>0.919708</td>\n",
       "      <td>0.854237</td>\n",
       "    </tr>\n",
       "  </tbody>\n",
       "</table>\n",
       "</div>"
      ],
      "text/plain": [
       "              Accuracy       AUC    Recall  Precision        F1\n",
       "RandomForest  0.958374  0.892448  0.797468   0.919708  0.854237"
      ]
     },
     "execution_count": 22,
     "metadata": {},
     "output_type": "execute_result"
    }
   ],
   "source": [
    "rf_metrics=resume_m(y, rf_y_pred, \"RandomForest\")\n",
    "rf_metrics"
   ]
  },
  {
   "cell_type": "markdown",
   "id": "120200a4",
   "metadata": {},
   "source": [
    "## Gradient Boosting "
   ]
  },
  {
   "cell_type": "code",
   "execution_count": 23,
   "id": "f918ff2f",
   "metadata": {},
   "outputs": [],
   "source": [
    "from sklearn.ensemble import GradientBoostingClassifier\n",
    "\n",
    "gboc= GradientBoostingClassifier()\n",
    "gboc_y_pred = cross_val_predict(gboc, X, y, cv=10)"
   ]
  },
  {
   "cell_type": "code",
   "execution_count": 24,
   "id": "22f40fa0",
   "metadata": {},
   "outputs": [
    {
     "data": {
      "text/html": [
       "<div>\n",
       "<style scoped>\n",
       "    .dataframe tbody tr th:only-of-type {\n",
       "        vertical-align: middle;\n",
       "    }\n",
       "\n",
       "    .dataframe tbody tr th {\n",
       "        vertical-align: top;\n",
       "    }\n",
       "\n",
       "    .dataframe thead th {\n",
       "        text-align: right;\n",
       "    }\n",
       "</style>\n",
       "<table border=\"1\" class=\"dataframe\">\n",
       "  <thead>\n",
       "    <tr style=\"text-align: right;\">\n",
       "      <th></th>\n",
       "      <th>Accuracy</th>\n",
       "      <th>AUC</th>\n",
       "      <th>Recall</th>\n",
       "      <th>Precision</th>\n",
       "      <th>F1</th>\n",
       "    </tr>\n",
       "  </thead>\n",
       "  <tbody>\n",
       "    <tr>\n",
       "      <th>Gradient Boosting</th>\n",
       "      <td>0.952565</td>\n",
       "      <td>0.883834</td>\n",
       "      <td>0.78481</td>\n",
       "      <td>0.892086</td>\n",
       "      <td>0.835017</td>\n",
       "    </tr>\n",
       "  </tbody>\n",
       "</table>\n",
       "</div>"
      ],
      "text/plain": [
       "                   Accuracy       AUC   Recall  Precision        F1\n",
       "Gradient Boosting  0.952565  0.883834  0.78481   0.892086  0.835017"
      ]
     },
     "execution_count": 24,
     "metadata": {},
     "output_type": "execute_result"
    }
   ],
   "source": [
    "gboc_metrics=resume_m(y, gboc_y_pred, \"Gradient Boosting\")\n",
    "gboc_metrics"
   ]
  },
  {
   "cell_type": "markdown",
   "id": "3217e05b",
   "metadata": {},
   "source": [
    "## AdaBoost"
   ]
  },
  {
   "cell_type": "code",
   "execution_count": 25,
   "id": "8b1390e4",
   "metadata": {},
   "outputs": [],
   "source": [
    "from sklearn.ensemble import AdaBoostClassifier\n",
    "\n",
    "ada= AdaBoostClassifier(random_state=42)\n",
    "ada_y_pred= cross_val_predict(ada, X, y, cv=10)"
   ]
  },
  {
   "cell_type": "code",
   "execution_count": 26,
   "id": "bba95d26",
   "metadata": {},
   "outputs": [
    {
     "data": {
      "text/html": [
       "<div>\n",
       "<style scoped>\n",
       "    .dataframe tbody tr th:only-of-type {\n",
       "        vertical-align: middle;\n",
       "    }\n",
       "\n",
       "    .dataframe tbody tr th {\n",
       "        vertical-align: top;\n",
       "    }\n",
       "\n",
       "    .dataframe thead th {\n",
       "        text-align: right;\n",
       "    }\n",
       "</style>\n",
       "<table border=\"1\" class=\"dataframe\">\n",
       "  <thead>\n",
       "    <tr style=\"text-align: right;\">\n",
       "      <th></th>\n",
       "      <th>Accuracy</th>\n",
       "      <th>AUC</th>\n",
       "      <th>Recall</th>\n",
       "      <th>Precision</th>\n",
       "      <th>F1</th>\n",
       "    </tr>\n",
       "  </thead>\n",
       "  <tbody>\n",
       "    <tr>\n",
       "      <th>AdaBoostClassifier</th>\n",
       "      <td>0.949661</td>\n",
       "      <td>0.879526</td>\n",
       "      <td>0.778481</td>\n",
       "      <td>0.878571</td>\n",
       "      <td>0.825503</td>\n",
       "    </tr>\n",
       "  </tbody>\n",
       "</table>\n",
       "</div>"
      ],
      "text/plain": [
       "                    Accuracy       AUC    Recall  Precision        F1\n",
       "AdaBoostClassifier  0.949661  0.879526  0.778481   0.878571  0.825503"
      ]
     },
     "execution_count": 26,
     "metadata": {},
     "output_type": "execute_result"
    }
   ],
   "source": [
    "ada_metrics=resume_m(y, ada_y_pred, \"AdaBoostClassifier\")\n",
    "ada_metrics"
   ]
  },
  {
   "cell_type": "code",
   "execution_count": 27,
   "id": "0f143f14",
   "metadata": {},
   "outputs": [
    {
     "data": {
      "text/html": [
       "<div>\n",
       "<style scoped>\n",
       "    .dataframe tbody tr th:only-of-type {\n",
       "        vertical-align: middle;\n",
       "    }\n",
       "\n",
       "    .dataframe tbody tr th {\n",
       "        vertical-align: top;\n",
       "    }\n",
       "\n",
       "    .dataframe thead th {\n",
       "        text-align: right;\n",
       "    }\n",
       "</style>\n",
       "<table border=\"1\" class=\"dataframe\">\n",
       "  <thead>\n",
       "    <tr style=\"text-align: right;\">\n",
       "      <th></th>\n",
       "      <th>Accuracy</th>\n",
       "      <th>AUC</th>\n",
       "      <th>Recall</th>\n",
       "      <th>Precision</th>\n",
       "      <th>F1</th>\n",
       "    </tr>\n",
       "  </thead>\n",
       "  <tbody>\n",
       "    <tr>\n",
       "      <th>AdaBoostClassifier</th>\n",
       "      <td>0.949661</td>\n",
       "      <td>0.879526</td>\n",
       "      <td>0.778481</td>\n",
       "      <td>0.878571</td>\n",
       "      <td>0.825503</td>\n",
       "    </tr>\n",
       "    <tr>\n",
       "      <th>Gradient Boosting</th>\n",
       "      <td>0.952565</td>\n",
       "      <td>0.883834</td>\n",
       "      <td>0.784810</td>\n",
       "      <td>0.892086</td>\n",
       "      <td>0.835017</td>\n",
       "    </tr>\n",
       "    <tr>\n",
       "      <th>RandomForest</th>\n",
       "      <td>0.958374</td>\n",
       "      <td>0.892448</td>\n",
       "      <td>0.797468</td>\n",
       "      <td>0.919708</td>\n",
       "      <td>0.854237</td>\n",
       "    </tr>\n",
       "  </tbody>\n",
       "</table>\n",
       "</div>"
      ],
      "text/plain": [
       "                    Accuracy       AUC    Recall  Precision        F1\n",
       "AdaBoostClassifier  0.949661  0.879526  0.778481   0.878571  0.825503\n",
       "Gradient Boosting   0.952565  0.883834  0.784810   0.892086  0.835017\n",
       "RandomForest        0.958374  0.892448  0.797468   0.919708  0.854237"
      ]
     },
     "execution_count": 27,
     "metadata": {},
     "output_type": "execute_result"
    }
   ],
   "source": [
    "resum= pd.concat((ada_metrics, gboc_metrics),axis =0)\n",
    "resum= pd.concat((resum, rf_metrics),axis =0)\n",
    "resum"
   ]
  }
 ],
 "metadata": {
  "kernelspec": {
   "display_name": "Python 3 (ipykernel)",
   "language": "python",
   "name": "python3"
  },
  "language_info": {
   "codemirror_mode": {
    "name": "ipython",
    "version": 3
   },
   "file_extension": ".py",
   "mimetype": "text/x-python",
   "name": "python",
   "nbconvert_exporter": "python",
   "pygments_lexer": "ipython3",
   "version": "3.9.12"
  }
 },
 "nbformat": 4,
 "nbformat_minor": 5
}
