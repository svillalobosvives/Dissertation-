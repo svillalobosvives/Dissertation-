{
 "cells": [
  {
   "cell_type": "code",
   "execution_count": 6,
   "id": "a8eb937a",
   "metadata": {},
   "outputs": [],
   "source": [
    "import pandas as pd\n",
    "import numpy as np"
   ]
  },
  {
   "cell_type": "code",
   "execution_count": 7,
   "id": "6c0688a8",
   "metadata": {},
   "outputs": [],
   "source": [
    "from sklearn.impute import SimpleImputer\n",
    "\n",
    "data_uni_2 = pd.read_csv(\"data_uni.csv\")\n",
    "\n",
    "data_uni_2.iloc[:, [24,25,29]]= data_uni_2.iloc[:, [24,25,29]].fillna(0)\n",
    "column_miss= list(data_uni_2.columns[data_uni_2.isnull().any()])\n",
    "\n",
    "# IMPUTER ===========================================================================\n",
    "\n",
    "imputer = SimpleImputer(missing_values=np.nan, strategy='most_frequent')\n",
    "\n",
    "data_uni_2[column_miss]= imputer.fit_transform(data_uni_2[column_miss])\n",
    "\n",
    "data_uni_2= data_uni_2.drop([\"Course\",\"AWM year 1\", \"AWM year 2\", \"AWM year 3\", \"Overall AWM\", \"Attendance\", \"Progression\"], axis = 1)\n",
    "\n",
    "# FORMATING MANUALLY ================================================================\n",
    "\n",
    "#ethinicty binarisation \n",
    "data_uni_2.Ethnicity = data_uni_2.Ethnicity.str.replace(\"White\", \"0\")\n",
    "data_uni_2.Ethnicity = data_uni_2.Ethnicity.str.replace(\"Asian\", \"1\")\n",
    "data_uni_2.Ethnicity = data_uni_2.Ethnicity.str.replace(\"Black/Black British African\", \"1\")\n",
    "data_uni_2.Ethnicity = data_uni_2.Ethnicity.str.replace(\"Other ethnic background\", \"1\")\n",
    "\n",
    "# Polar 4 Score Binarisation\n",
    "data_uni_2.Polar_4_Score = data_uni_2.Polar_4_Score.replace(5, 0)\n",
    "data_uni_2.Polar_4_Score = data_uni_2.Polar_4_Score.replace(4, 0)\n",
    "data_uni_2.Polar_4_Score = data_uni_2.Polar_4_Score.replace(3, 0)\n",
    "data_uni_2.Polar_4_Score = data_uni_2.Polar_4_Score.replace(2, 1)\n",
    "\n",
    "#splitting X and y ==================================================================\n",
    "y = data_uni_2[\"desertion\"]\n",
    "X = data_uni_2.drop([\"desertion\"], axis = 1)\n"
   ]
  },
  {
   "cell_type": "markdown",
   "id": "1af1760f",
   "metadata": {},
   "source": [
    "### Categorical and numeric features"
   ]
  },
  {
   "cell_type": "code",
   "execution_count": 8,
   "id": "ce7eff1b",
   "metadata": {},
   "outputs": [
    {
     "data": {
      "text/plain": [
       "Index(['UCAS', '25 Above', 'Disability', 'Ethnicity', 'Gender', 'British',\n",
       "       'English native Language', 'Parent He attendance', 'Polar_4_Score',\n",
       "       'SLC', 'Care Leaver', 'Student Visa', 'Refugee',\n",
       "       'London Permanent Residence', 'UCAS Points', 'English', 'Maths',\n",
       "       'A Levels', 'Btec', 'Previous work', 'Bursary', 'First Sit',\n",
       "       'Second Sit', 'Fails', 'No Submissions', 'Late Submission', 'Pass',\n",
       "       'Re Takes'],\n",
       "      dtype='object')"
      ]
     },
     "execution_count": 8,
     "metadata": {},
     "output_type": "execute_result"
    }
   ],
   "source": [
    "X.columns"
   ]
  },
  {
   "cell_type": "code",
   "execution_count": 9,
   "id": "1127d093",
   "metadata": {},
   "outputs": [],
   "source": [
    "fe_num= ['UCAS Points', 'English', 'Maths', 'First Sit', \n",
    "         'Second Sit', 'Fails', 'No Submissions', 'Late Submission',\n",
    "        'Pass']"
   ]
  },
  {
   "cell_type": "code",
   "execution_count": 11,
   "id": "5cab221b",
   "metadata": {},
   "outputs": [],
   "source": [
    "fe_cat= ['UCAS', '25 Above', 'Disability', 'Ethnicity', 'Gender',\n",
    "       'British', 'English native Language', 'Parent He attendance',\n",
    "       'Polar_4_Score', 'SLC', 'Care Leaver', 'Student Visa', 'Refugee',\n",
    "       'London Permanent Residence', 'A Levels', 'Btec', 'Previous work', 'Bursary','Re Takes']"
   ]
  },
  {
   "cell_type": "markdown",
   "id": "9d282599",
   "metadata": {},
   "source": [
    "## Scaling"
   ]
  },
  {
   "cell_type": "code",
   "execution_count": 12,
   "id": "797fff3b",
   "metadata": {},
   "outputs": [],
   "source": [
    "# we are going to scale just the continous ones which are\n",
    "fe_num_cont= ['UCAS Points', 'Pass']\n",
    "\n",
    "# let the following without changes\n",
    "fe_num_no= ['English','Maths', 'First Sit', 'Second Sit', 'Fails', 'No Submissions', 'Late Submission']"
   ]
  },
  {
   "cell_type": "code",
   "execution_count": 13,
   "id": "41284e07",
   "metadata": {},
   "outputs": [],
   "source": [
    "from sklearn.preprocessing import StandardScaler\n",
    "\n",
    "sc = StandardScaler()\n",
    "\n",
    "x_num_cont= pd.DataFrame(sc.fit_transform(X[fe_num_cont]))\n",
    "x_num_cont.columns= X[fe_num_cont].columns\n",
    "#x_num_cont"
   ]
  },
  {
   "cell_type": "code",
   "execution_count": 14,
   "id": "9552ae07",
   "metadata": {},
   "outputs": [],
   "source": [
    "X_num = pd.concat((x_num_cont, X[fe_num_no]), axis =1)\n",
    "#X_num"
   ]
  },
  {
   "cell_type": "markdown",
   "id": "024de8c0",
   "metadata": {},
   "source": [
    "## OneHotEncoder"
   ]
  },
  {
   "cell_type": "code",
   "execution_count": 16,
   "id": "e33adb26",
   "metadata": {},
   "outputs": [],
   "source": [
    "from sklearn.preprocessing import OneHotEncoder\n",
    "\n",
    "enc = OneHotEncoder(handle_unknown= \"error\", sparse = False, drop = \"if_binary\")\n",
    "X_cat = pd.DataFrame(enc.fit_transform(X[fe_cat]))\n",
    "#X_cat.columns= enc.get_feature_names_out()\n",
    "#X_cat"
   ]
  },
  {
   "cell_type": "code",
   "execution_count": 18,
   "id": "f90fa93b",
   "metadata": {},
   "outputs": [],
   "source": [
    "x_num_cat= pd.concat((X_num, X_cat), axis =1)\n",
    "#x_num_cat"
   ]
  },
  {
   "cell_type": "markdown",
   "id": "c0d6395b",
   "metadata": {},
   "source": [
    "## y encoder"
   ]
  },
  {
   "cell_type": "code",
   "execution_count": 19,
   "id": "50389ddd",
   "metadata": {},
   "outputs": [],
   "source": [
    "#Encoding dependent Variable\n",
    "from sklearn.preprocessing import LabelEncoder\n",
    "\n",
    "le = LabelEncoder()\n",
    "y_enc = le.fit_transform(y)\n",
    "y_enc= pd.DataFrame(y_enc, columns=[\"desertion\"])\n",
    "#y_enc"
   ]
  },
  {
   "cell_type": "code",
   "execution_count": 20,
   "id": "765b2d00",
   "metadata": {},
   "outputs": [
    {
     "data": {
      "text/html": [
       "<div>\n",
       "<style scoped>\n",
       "    .dataframe tbody tr th:only-of-type {\n",
       "        vertical-align: middle;\n",
       "    }\n",
       "\n",
       "    .dataframe tbody tr th {\n",
       "        vertical-align: top;\n",
       "    }\n",
       "\n",
       "    .dataframe thead th {\n",
       "        text-align: right;\n",
       "    }\n",
       "</style>\n",
       "<table border=\"1\" class=\"dataframe\">\n",
       "  <thead>\n",
       "    <tr style=\"text-align: right;\">\n",
       "      <th></th>\n",
       "      <th>desertion</th>\n",
       "    </tr>\n",
       "  </thead>\n",
       "  <tbody>\n",
       "    <tr>\n",
       "      <th>0</th>\n",
       "      <td>0</td>\n",
       "    </tr>\n",
       "    <tr>\n",
       "      <th>1</th>\n",
       "      <td>1</td>\n",
       "    </tr>\n",
       "    <tr>\n",
       "      <th>2</th>\n",
       "      <td>1</td>\n",
       "    </tr>\n",
       "    <tr>\n",
       "      <th>3</th>\n",
       "      <td>1</td>\n",
       "    </tr>\n",
       "    <tr>\n",
       "      <th>4</th>\n",
       "      <td>0</td>\n",
       "    </tr>\n",
       "    <tr>\n",
       "      <th>...</th>\n",
       "      <td>...</td>\n",
       "    </tr>\n",
       "    <tr>\n",
       "      <th>1028</th>\n",
       "      <td>1</td>\n",
       "    </tr>\n",
       "    <tr>\n",
       "      <th>1029</th>\n",
       "      <td>0</td>\n",
       "    </tr>\n",
       "    <tr>\n",
       "      <th>1030</th>\n",
       "      <td>1</td>\n",
       "    </tr>\n",
       "    <tr>\n",
       "      <th>1031</th>\n",
       "      <td>0</td>\n",
       "    </tr>\n",
       "    <tr>\n",
       "      <th>1032</th>\n",
       "      <td>0</td>\n",
       "    </tr>\n",
       "  </tbody>\n",
       "</table>\n",
       "<p>1033 rows × 1 columns</p>\n",
       "</div>"
      ],
      "text/plain": [
       "      desertion\n",
       "0             0\n",
       "1             1\n",
       "2             1\n",
       "3             1\n",
       "4             0\n",
       "...         ...\n",
       "1028          1\n",
       "1029          0\n",
       "1030          1\n",
       "1031          0\n",
       "1032          0\n",
       "\n",
       "[1033 rows x 1 columns]"
      ]
     },
     "execution_count": 20,
     "metadata": {},
     "output_type": "execute_result"
    }
   ],
   "source": [
    "y_enc"
   ]
  },
  {
   "cell_type": "markdown",
   "id": "9ebf8e78",
   "metadata": {},
   "source": [
    "# SMOTE"
   ]
  },
  {
   "cell_type": "code",
   "execution_count": 21,
   "id": "90220cb6",
   "metadata": {},
   "outputs": [],
   "source": [
    "from imblearn.over_sampling import SMOTE\n",
    "from collections import Counter\n",
    "\n",
    "sm = SMOTE(random_state=42)\n",
    "x_res, y_res = sm.fit_resample(x_num_cat, y_enc)"
   ]
  },
  {
   "cell_type": "code",
   "execution_count": 22,
   "id": "59072501",
   "metadata": {},
   "outputs": [
    {
     "data": {
      "text/plain": [
       "desertion\n",
       "0            875\n",
       "1            875\n",
       "dtype: int64"
      ]
     },
     "execution_count": 22,
     "metadata": {},
     "output_type": "execute_result"
    }
   ],
   "source": [
    "y_res.value_counts()"
   ]
  },
  {
   "cell_type": "code",
   "execution_count": 23,
   "id": "7dfca69b",
   "metadata": {},
   "outputs": [
    {
     "data": {
      "text/plain": [
       "Index([    'UCAS Points',            'Pass',         'English',\n",
       "                 'Maths',       'First Sit',      'Second Sit',\n",
       "                 'Fails',  'No Submissions', 'Late Submission',\n",
       "                       0,                 1,                 2,\n",
       "                       3,                 4,                 5,\n",
       "                       6,                 7,                 8,\n",
       "                       9,                10,                11,\n",
       "                      12,                13,                14,\n",
       "                      15,                16,                17,\n",
       "                      18,                19,                20],\n",
       "      dtype='object')"
      ]
     },
     "execution_count": 23,
     "metadata": {},
     "output_type": "execute_result"
    }
   ],
   "source": [
    "x_res.columns"
   ]
  },
  {
   "cell_type": "markdown",
   "id": "644b59ca",
   "metadata": {},
   "source": [
    "# Feature Selection"
   ]
  },
  {
   "cell_type": "code",
   "execution_count": 24,
   "id": "27daa9af",
   "metadata": {},
   "outputs": [
    {
     "data": {
      "text/html": [
       "<div>\n",
       "<style scoped>\n",
       "    .dataframe tbody tr th:only-of-type {\n",
       "        vertical-align: middle;\n",
       "    }\n",
       "\n",
       "    .dataframe tbody tr th {\n",
       "        vertical-align: top;\n",
       "    }\n",
       "\n",
       "    .dataframe thead th {\n",
       "        text-align: right;\n",
       "    }\n",
       "</style>\n",
       "<table border=\"1\" class=\"dataframe\">\n",
       "  <thead>\n",
       "    <tr style=\"text-align: right;\">\n",
       "      <th></th>\n",
       "      <th>UCAS Points</th>\n",
       "      <th>Pass</th>\n",
       "      <th>English</th>\n",
       "      <th>Maths</th>\n",
       "      <th>First Sit</th>\n",
       "      <th>Second Sit</th>\n",
       "      <th>Fails</th>\n",
       "      <th>No Submissions</th>\n",
       "      <th>Late Submission</th>\n",
       "      <th>0</th>\n",
       "      <th>...</th>\n",
       "      <th>12</th>\n",
       "      <th>13</th>\n",
       "      <th>14</th>\n",
       "      <th>15</th>\n",
       "      <th>16</th>\n",
       "      <th>17</th>\n",
       "      <th>18</th>\n",
       "      <th>19</th>\n",
       "      <th>20</th>\n",
       "      <th>desertion</th>\n",
       "    </tr>\n",
       "  </thead>\n",
       "  <tbody>\n",
       "    <tr>\n",
       "      <th>0</th>\n",
       "      <td>-0.524646</td>\n",
       "      <td>0.420941</td>\n",
       "      <td>5.0</td>\n",
       "      <td>4.0</td>\n",
       "      <td>3</td>\n",
       "      <td>3.000000</td>\n",
       "      <td>0</td>\n",
       "      <td>2</td>\n",
       "      <td>2</td>\n",
       "      <td>0.000000</td>\n",
       "      <td>...</td>\n",
       "      <td>0.0</td>\n",
       "      <td>1.0</td>\n",
       "      <td>0.0</td>\n",
       "      <td>1.000000</td>\n",
       "      <td>1.000000</td>\n",
       "      <td>0.000000</td>\n",
       "      <td>1.0</td>\n",
       "      <td>0.000000</td>\n",
       "      <td>1.0</td>\n",
       "      <td>0</td>\n",
       "    </tr>\n",
       "    <tr>\n",
       "      <th>1</th>\n",
       "      <td>-0.373711</td>\n",
       "      <td>-0.423655</td>\n",
       "      <td>5.0</td>\n",
       "      <td>5.0</td>\n",
       "      <td>1</td>\n",
       "      <td>2.000000</td>\n",
       "      <td>5</td>\n",
       "      <td>3</td>\n",
       "      <td>0</td>\n",
       "      <td>0.000000</td>\n",
       "      <td>...</td>\n",
       "      <td>0.0</td>\n",
       "      <td>0.0</td>\n",
       "      <td>0.0</td>\n",
       "      <td>0.000000</td>\n",
       "      <td>1.000000</td>\n",
       "      <td>0.000000</td>\n",
       "      <td>1.0</td>\n",
       "      <td>1.000000</td>\n",
       "      <td>0.0</td>\n",
       "      <td>1</td>\n",
       "    </tr>\n",
       "    <tr>\n",
       "      <th>2</th>\n",
       "      <td>1.035022</td>\n",
       "      <td>0.420941</td>\n",
       "      <td>4.0</td>\n",
       "      <td>4.0</td>\n",
       "      <td>6</td>\n",
       "      <td>0.000000</td>\n",
       "      <td>0</td>\n",
       "      <td>0</td>\n",
       "      <td>0</td>\n",
       "      <td>0.000000</td>\n",
       "      <td>...</td>\n",
       "      <td>0.0</td>\n",
       "      <td>0.0</td>\n",
       "      <td>0.0</td>\n",
       "      <td>1.000000</td>\n",
       "      <td>1.000000</td>\n",
       "      <td>0.000000</td>\n",
       "      <td>1.0</td>\n",
       "      <td>0.000000</td>\n",
       "      <td>0.0</td>\n",
       "      <td>1</td>\n",
       "    </tr>\n",
       "    <tr>\n",
       "      <th>3</th>\n",
       "      <td>0.079096</td>\n",
       "      <td>0.420941</td>\n",
       "      <td>9.0</td>\n",
       "      <td>8.0</td>\n",
       "      <td>6</td>\n",
       "      <td>0.000000</td>\n",
       "      <td>0</td>\n",
       "      <td>0</td>\n",
       "      <td>0</td>\n",
       "      <td>0.000000</td>\n",
       "      <td>...</td>\n",
       "      <td>0.0</td>\n",
       "      <td>0.0</td>\n",
       "      <td>0.0</td>\n",
       "      <td>1.000000</td>\n",
       "      <td>1.000000</td>\n",
       "      <td>0.000000</td>\n",
       "      <td>1.0</td>\n",
       "      <td>0.000000</td>\n",
       "      <td>0.0</td>\n",
       "      <td>1</td>\n",
       "    </tr>\n",
       "    <tr>\n",
       "      <th>4</th>\n",
       "      <td>1.085334</td>\n",
       "      <td>0.420941</td>\n",
       "      <td>6.0</td>\n",
       "      <td>5.0</td>\n",
       "      <td>4</td>\n",
       "      <td>2.000000</td>\n",
       "      <td>0</td>\n",
       "      <td>2</td>\n",
       "      <td>0</td>\n",
       "      <td>0.000000</td>\n",
       "      <td>...</td>\n",
       "      <td>0.0</td>\n",
       "      <td>0.0</td>\n",
       "      <td>0.0</td>\n",
       "      <td>1.000000</td>\n",
       "      <td>1.000000</td>\n",
       "      <td>0.000000</td>\n",
       "      <td>1.0</td>\n",
       "      <td>0.000000</td>\n",
       "      <td>0.0</td>\n",
       "      <td>0</td>\n",
       "    </tr>\n",
       "    <tr>\n",
       "      <th>...</th>\n",
       "      <td>...</td>\n",
       "      <td>...</td>\n",
       "      <td>...</td>\n",
       "      <td>...</td>\n",
       "      <td>...</td>\n",
       "      <td>...</td>\n",
       "      <td>...</td>\n",
       "      <td>...</td>\n",
       "      <td>...</td>\n",
       "      <td>...</td>\n",
       "      <td>...</td>\n",
       "      <td>...</td>\n",
       "      <td>...</td>\n",
       "      <td>...</td>\n",
       "      <td>...</td>\n",
       "      <td>...</td>\n",
       "      <td>...</td>\n",
       "      <td>...</td>\n",
       "      <td>...</td>\n",
       "      <td>...</td>\n",
       "      <td>...</td>\n",
       "    </tr>\n",
       "    <tr>\n",
       "      <th>1745</th>\n",
       "      <td>-0.597912</td>\n",
       "      <td>0.420941</td>\n",
       "      <td>6.0</td>\n",
       "      <td>5.135944</td>\n",
       "      <td>4</td>\n",
       "      <td>2.000000</td>\n",
       "      <td>0</td>\n",
       "      <td>0</td>\n",
       "      <td>0</td>\n",
       "      <td>0.932028</td>\n",
       "      <td>...</td>\n",
       "      <td>0.0</td>\n",
       "      <td>0.0</td>\n",
       "      <td>0.0</td>\n",
       "      <td>1.000000</td>\n",
       "      <td>1.000000</td>\n",
       "      <td>0.000000</td>\n",
       "      <td>0.0</td>\n",
       "      <td>0.000000</td>\n",
       "      <td>0.0</td>\n",
       "      <td>1</td>\n",
       "    </tr>\n",
       "    <tr>\n",
       "      <th>1746</th>\n",
       "      <td>0.579690</td>\n",
       "      <td>0.420941</td>\n",
       "      <td>3.10251</td>\n",
       "      <td>2.205019</td>\n",
       "      <td>6</td>\n",
       "      <td>0.000000</td>\n",
       "      <td>0</td>\n",
       "      <td>0</td>\n",
       "      <td>0</td>\n",
       "      <td>0.102510</td>\n",
       "      <td>...</td>\n",
       "      <td>0.0</td>\n",
       "      <td>0.0</td>\n",
       "      <td>0.0</td>\n",
       "      <td>0.897490</td>\n",
       "      <td>0.102510</td>\n",
       "      <td>0.897490</td>\n",
       "      <td>1.0</td>\n",
       "      <td>0.000000</td>\n",
       "      <td>0.0</td>\n",
       "      <td>1</td>\n",
       "    </tr>\n",
       "    <tr>\n",
       "      <th>1747</th>\n",
       "      <td>0.383907</td>\n",
       "      <td>-2.112847</td>\n",
       "      <td>3.937228</td>\n",
       "      <td>4.937228</td>\n",
       "      <td>4</td>\n",
       "      <td>1.874457</td>\n",
       "      <td>3</td>\n",
       "      <td>1</td>\n",
       "      <td>0</td>\n",
       "      <td>0.937228</td>\n",
       "      <td>...</td>\n",
       "      <td>0.0</td>\n",
       "      <td>0.0</td>\n",
       "      <td>0.0</td>\n",
       "      <td>0.000000</td>\n",
       "      <td>0.062772</td>\n",
       "      <td>1.000000</td>\n",
       "      <td>1.0</td>\n",
       "      <td>0.937228</td>\n",
       "      <td>0.0</td>\n",
       "      <td>1</td>\n",
       "    </tr>\n",
       "    <tr>\n",
       "      <th>1748</th>\n",
       "      <td>-0.071529</td>\n",
       "      <td>-2.693832</td>\n",
       "      <td>5.312114</td>\n",
       "      <td>4.0</td>\n",
       "      <td>2</td>\n",
       "      <td>1.000000</td>\n",
       "      <td>2</td>\n",
       "      <td>1</td>\n",
       "      <td>0</td>\n",
       "      <td>1.000000</td>\n",
       "      <td>...</td>\n",
       "      <td>0.0</td>\n",
       "      <td>0.0</td>\n",
       "      <td>0.0</td>\n",
       "      <td>1.000000</td>\n",
       "      <td>1.000000</td>\n",
       "      <td>0.000000</td>\n",
       "      <td>0.0</td>\n",
       "      <td>0.000000</td>\n",
       "      <td>0.0</td>\n",
       "      <td>1</td>\n",
       "    </tr>\n",
       "    <tr>\n",
       "      <th>1749</th>\n",
       "      <td>-0.625270</td>\n",
       "      <td>0.420941</td>\n",
       "      <td>5.864326</td>\n",
       "      <td>4.0</td>\n",
       "      <td>3</td>\n",
       "      <td>2.932163</td>\n",
       "      <td>0</td>\n",
       "      <td>1</td>\n",
       "      <td>0</td>\n",
       "      <td>0.067837</td>\n",
       "      <td>...</td>\n",
       "      <td>0.0</td>\n",
       "      <td>0.0</td>\n",
       "      <td>0.0</td>\n",
       "      <td>0.932163</td>\n",
       "      <td>0.000000</td>\n",
       "      <td>0.067837</td>\n",
       "      <td>1.0</td>\n",
       "      <td>0.000000</td>\n",
       "      <td>0.0</td>\n",
       "      <td>1</td>\n",
       "    </tr>\n",
       "  </tbody>\n",
       "</table>\n",
       "<p>1750 rows × 31 columns</p>\n",
       "</div>"
      ],
      "text/plain": [
       "      UCAS Points      Pass   English     Maths  First Sit  Second Sit  Fails  \\\n",
       "0       -0.524646  0.420941       5.0       4.0          3    3.000000      0   \n",
       "1       -0.373711 -0.423655       5.0       5.0          1    2.000000      5   \n",
       "2        1.035022  0.420941       4.0       4.0          6    0.000000      0   \n",
       "3        0.079096  0.420941       9.0       8.0          6    0.000000      0   \n",
       "4        1.085334  0.420941       6.0       5.0          4    2.000000      0   \n",
       "...           ...       ...       ...       ...        ...         ...    ...   \n",
       "1745    -0.597912  0.420941       6.0  5.135944          4    2.000000      0   \n",
       "1746     0.579690  0.420941   3.10251  2.205019          6    0.000000      0   \n",
       "1747     0.383907 -2.112847  3.937228  4.937228          4    1.874457      3   \n",
       "1748    -0.071529 -2.693832  5.312114       4.0          2    1.000000      2   \n",
       "1749    -0.625270  0.420941  5.864326       4.0          3    2.932163      0   \n",
       "\n",
       "      No Submissions  Late Submission         0  ...   12   13   14        15  \\\n",
       "0                  2                2  0.000000  ...  0.0  1.0  0.0  1.000000   \n",
       "1                  3                0  0.000000  ...  0.0  0.0  0.0  0.000000   \n",
       "2                  0                0  0.000000  ...  0.0  0.0  0.0  1.000000   \n",
       "3                  0                0  0.000000  ...  0.0  0.0  0.0  1.000000   \n",
       "4                  2                0  0.000000  ...  0.0  0.0  0.0  1.000000   \n",
       "...              ...              ...       ...  ...  ...  ...  ...       ...   \n",
       "1745               0                0  0.932028  ...  0.0  0.0  0.0  1.000000   \n",
       "1746               0                0  0.102510  ...  0.0  0.0  0.0  0.897490   \n",
       "1747               1                0  0.937228  ...  0.0  0.0  0.0  0.000000   \n",
       "1748               1                0  1.000000  ...  0.0  0.0  0.0  1.000000   \n",
       "1749               1                0  0.067837  ...  0.0  0.0  0.0  0.932163   \n",
       "\n",
       "            16        17   18        19   20  desertion  \n",
       "0     1.000000  0.000000  1.0  0.000000  1.0          0  \n",
       "1     1.000000  0.000000  1.0  1.000000  0.0          1  \n",
       "2     1.000000  0.000000  1.0  0.000000  0.0          1  \n",
       "3     1.000000  0.000000  1.0  0.000000  0.0          1  \n",
       "4     1.000000  0.000000  1.0  0.000000  0.0          0  \n",
       "...        ...       ...  ...       ...  ...        ...  \n",
       "1745  1.000000  0.000000  0.0  0.000000  0.0          1  \n",
       "1746  0.102510  0.897490  1.0  0.000000  0.0          1  \n",
       "1747  0.062772  1.000000  1.0  0.937228  0.0          1  \n",
       "1748  1.000000  0.000000  0.0  0.000000  0.0          1  \n",
       "1749  0.000000  0.067837  1.0  0.000000  0.0          1  \n",
       "\n",
       "[1750 rows x 31 columns]"
      ]
     },
     "execution_count": 24,
     "metadata": {},
     "output_type": "execute_result"
    }
   ],
   "source": [
    "data_prepro= pd.concat((x_res, y_res), axis =1)\n",
    "data_prepro"
   ]
  },
  {
   "cell_type": "code",
   "execution_count": 25,
   "id": "5da8c074",
   "metadata": {},
   "outputs": [
    {
     "name": "stdout",
     "output_type": "stream",
     "text": [
      "Imported version = 0.1.87.\n",
      "from featurewiz import FeatureWiz\n",
      "wiz = FeatureWiz(verbose=1)\n",
      "X_train_selected = wiz.fit_transform(X_train, y_train)\n",
      "X_test_selected = wiz.transform(X_test)\n",
      "wiz.features  ### provides a list of selected features ###\n",
      "                                \n",
      "############################################################################################\n",
      "############       F A S T   F E A T U R E  E N G G    A N D    S E L E C T I O N ! ########\n",
      "# Be judicious with featurewiz. Don't use it to create too many un-interpretable features! #\n",
      "############################################################################################\n",
      "Skipping feature engineering since no feature_engg input...\n",
      "Skipping category encoding since no category encoders specified in input...\n",
      "**INFO: featurewiz can now read feather formatted files. Loading train data...\n",
      "    Shape of your Data Set loaded: (1750, 31)\n",
      "    Loaded train data. Shape = (1750, 31)\n"
     ]
    },
    {
     "ename": "TypeError",
     "evalue": "expected string or bytes-like object",
     "output_type": "error",
     "traceback": [
      "\u001b[1;31m---------------------------------------------------------------------------\u001b[0m",
      "\u001b[1;31mTypeError\u001b[0m                                 Traceback (most recent call last)",
      "\u001b[1;32mc:\\Users\\Sarita\\Documents\\Dissertation\\Dissertation-\\Experiment_10 (1).ipynb Cell 23\u001b[0m in \u001b[0;36m<cell line: 5>\u001b[1;34m()\u001b[0m\n\u001b[0;32m      <a href='vscode-notebook-cell:/c%3A/Users/Sarita/Documents/Dissertation/Dissertation-/Experiment_10%20%281%29.ipynb#X31sZmlsZQ%3D%3D?line=0'>1</a>\u001b[0m \u001b[39mfrom\u001b[39;00m \u001b[39mfeaturewiz\u001b[39;00m \u001b[39mimport\u001b[39;00m featurewiz\n\u001b[0;32m      <a href='vscode-notebook-cell:/c%3A/Users/Sarita/Documents/Dissertation/Dissertation-/Experiment_10%20%281%29.ipynb#X31sZmlsZQ%3D%3D?line=2'>3</a>\u001b[0m target \u001b[39m=\u001b[39m \u001b[39m\"\u001b[39m\u001b[39mdesertion\u001b[39m\u001b[39m\"\u001b[39m \n\u001b[1;32m----> <a href='vscode-notebook-cell:/c%3A/Users/Sarita/Documents/Dissertation/Dissertation-/Experiment_10%20%281%29.ipynb#X31sZmlsZQ%3D%3D?line=4'>5</a>\u001b[0m features, data_full \u001b[39m=\u001b[39m featurewiz(data_prepro, target, corr_limit\u001b[39m=\u001b[39;49m\u001b[39m0.8\u001b[39;49m, verbose \u001b[39m=\u001b[39;49m\u001b[39m2\u001b[39;49m, sep\u001b[39m=\u001b[39;49m\u001b[39m\"\u001b[39;49m\u001b[39m,\u001b[39;49m\u001b[39m\"\u001b[39;49m, header\u001b[39m=\u001b[39;49m \u001b[39m0\u001b[39;49m, test_data\u001b[39m=\u001b[39;49m \u001b[39m2\u001b[39;49m, feature_engg\u001b[39m=\u001b[39;49m \u001b[39m\"\u001b[39;49m\u001b[39m\"\u001b[39;49m, category_encoders\u001b[39m=\u001b[39;49m\u001b[39m\"\u001b[39;49m\u001b[39m\"\u001b[39;49m)\n",
      "File \u001b[1;32mc:\\Users\\Sarita\\AppData\\Local\\Programs\\Python\\Python38\\lib\\site-packages\\featurewiz\\featurewiz.py:705\u001b[0m, in \u001b[0;36mfeaturewiz\u001b[1;34m(dataname, target, corr_limit, verbose, sep, header, test_data, feature_engg, category_encoders, dask_xgboost_flag, nrows, **kwargs)\u001b[0m\n\u001b[0;32m    700\u001b[0m \u001b[39m#### Convert mixed data types to string data type  ############################\u001b[39;00m\n\u001b[0;32m    701\u001b[0m \u001b[39m#dataname = FE_convert_mixed_datatypes_to_string(dataname)\u001b[39;00m\n\u001b[0;32m    702\u001b[0m \n\u001b[0;32m    703\u001b[0m \u001b[39m######   XGBoost cannot handle special chars in column names ###########\u001b[39;00m\n\u001b[0;32m    704\u001b[0m old_col_names \u001b[39m=\u001b[39m dataname\u001b[39m.\u001b[39mcolumns\u001b[39m.\u001b[39mtolist()\n\u001b[1;32m--> 705\u001b[0m new_col_names, special_char_flag \u001b[39m=\u001b[39m EDA_make_column_names_unique(dataname)\n\u001b[0;32m    706\u001b[0m \u001b[39mif\u001b[39;00m special_char_flag:\n\u001b[0;32m    707\u001b[0m     dataname\u001b[39m.\u001b[39mcolumns \u001b[39m=\u001b[39m new_col_names\n",
      "File \u001b[1;32mc:\\Users\\Sarita\\AppData\\Local\\Programs\\Python\\Python38\\lib\\site-packages\\featurewiz\\featurewiz.py:3073\u001b[0m, in \u001b[0;36mEDA_make_column_names_unique\u001b[1;34m(data_input)\u001b[0m\n\u001b[0;32m   3071\u001b[0m \u001b[39m### This function removes all special chars from a list ###\u001b[39;00m\n\u001b[0;32m   3072\u001b[0m remove_special_chars \u001b[39m=\u001b[39m  \u001b[39mlambda\u001b[39;00m x:re\u001b[39m.\u001b[39msub(\u001b[39m'\u001b[39m\u001b[39m[^A-Za-z0-9_]+\u001b[39m\u001b[39m'\u001b[39m, \u001b[39m'\u001b[39m\u001b[39m'\u001b[39m, x)\n\u001b[1;32m-> 3073\u001b[0m newls \u001b[39m=\u001b[39m ser\u001b[39m.\u001b[39;49mmap(remove_special_chars)\u001b[39m.\u001b[39mvalues\u001b[39m.\u001b[39mtolist()\n\u001b[0;32m   3074\u001b[0m \u001b[39m### there may be duplicates in this list - we need to make them unique by randomly adding strings to name ##\u001b[39;00m\n\u001b[0;32m   3075\u001b[0m seen \u001b[39m=\u001b[39m [item \u001b[39mfor\u001b[39;00m item, count \u001b[39min\u001b[39;00m collections\u001b[39m.\u001b[39mCounter(newls)\u001b[39m.\u001b[39mitems() \u001b[39mif\u001b[39;00m count \u001b[39m>\u001b[39m \u001b[39m1\u001b[39m]\n",
      "File \u001b[1;32mc:\\Users\\Sarita\\AppData\\Local\\Programs\\Python\\Python38\\lib\\site-packages\\pandas\\core\\series.py:4237\u001b[0m, in \u001b[0;36mSeries.map\u001b[1;34m(self, arg, na_action)\u001b[0m\n\u001b[0;32m   4162\u001b[0m \u001b[39mdef\u001b[39;00m \u001b[39mmap\u001b[39m(\u001b[39mself\u001b[39m, arg, na_action\u001b[39m=\u001b[39m\u001b[39mNone\u001b[39;00m) \u001b[39m-\u001b[39m\u001b[39m>\u001b[39m Series:\n\u001b[0;32m   4163\u001b[0m     \u001b[39m\"\"\"\u001b[39;00m\n\u001b[0;32m   4164\u001b[0m \u001b[39m    Map values of Series according to an input mapping or function.\u001b[39;00m\n\u001b[0;32m   4165\u001b[0m \n\u001b[1;32m   (...)\u001b[0m\n\u001b[0;32m   4235\u001b[0m \u001b[39m    dtype: object\u001b[39;00m\n\u001b[0;32m   4236\u001b[0m \u001b[39m    \"\"\"\u001b[39;00m\n\u001b[1;32m-> 4237\u001b[0m     new_values \u001b[39m=\u001b[39m \u001b[39mself\u001b[39;49m\u001b[39m.\u001b[39;49m_map_values(arg, na_action\u001b[39m=\u001b[39;49mna_action)\n\u001b[0;32m   4238\u001b[0m     \u001b[39mreturn\u001b[39;00m \u001b[39mself\u001b[39m\u001b[39m.\u001b[39m_constructor(new_values, index\u001b[39m=\u001b[39m\u001b[39mself\u001b[39m\u001b[39m.\u001b[39mindex)\u001b[39m.\u001b[39m__finalize__(\n\u001b[0;32m   4239\u001b[0m         \u001b[39mself\u001b[39m, method\u001b[39m=\u001b[39m\u001b[39m\"\u001b[39m\u001b[39mmap\u001b[39m\u001b[39m\"\u001b[39m\n\u001b[0;32m   4240\u001b[0m     )\n",
      "File \u001b[1;32mc:\\Users\\Sarita\\AppData\\Local\\Programs\\Python\\Python38\\lib\\site-packages\\pandas\\core\\base.py:880\u001b[0m, in \u001b[0;36mIndexOpsMixin._map_values\u001b[1;34m(self, mapper, na_action)\u001b[0m\n\u001b[0;32m    877\u001b[0m         \u001b[39mraise\u001b[39;00m \u001b[39mValueError\u001b[39;00m(msg)\n\u001b[0;32m    879\u001b[0m \u001b[39m# mapper is a function\u001b[39;00m\n\u001b[1;32m--> 880\u001b[0m new_values \u001b[39m=\u001b[39m map_f(values, mapper)\n\u001b[0;32m    882\u001b[0m \u001b[39mreturn\u001b[39;00m new_values\n",
      "File \u001b[1;32mc:\\Users\\Sarita\\AppData\\Local\\Programs\\Python\\Python38\\lib\\site-packages\\pandas\\_libs\\lib.pyx:2870\u001b[0m, in \u001b[0;36mpandas._libs.lib.map_infer\u001b[1;34m()\u001b[0m\n",
      "File \u001b[1;32mc:\\Users\\Sarita\\AppData\\Local\\Programs\\Python\\Python38\\lib\\site-packages\\featurewiz\\featurewiz.py:3072\u001b[0m, in \u001b[0;36mEDA_make_column_names_unique.<locals>.<lambda>\u001b[1;34m(x)\u001b[0m\n\u001b[0;32m   3070\u001b[0m ser \u001b[39m=\u001b[39m pd\u001b[39m.\u001b[39mSeries(cols)\n\u001b[0;32m   3071\u001b[0m \u001b[39m### This function removes all special chars from a list ###\u001b[39;00m\n\u001b[1;32m-> 3072\u001b[0m remove_special_chars \u001b[39m=\u001b[39m  \u001b[39mlambda\u001b[39;00m x:re\u001b[39m.\u001b[39;49msub(\u001b[39m'\u001b[39;49m\u001b[39m[^A-Za-z0-9_]+\u001b[39;49m\u001b[39m'\u001b[39;49m, \u001b[39m'\u001b[39;49m\u001b[39m'\u001b[39;49m, x)\n\u001b[0;32m   3073\u001b[0m newls \u001b[39m=\u001b[39m ser\u001b[39m.\u001b[39mmap(remove_special_chars)\u001b[39m.\u001b[39mvalues\u001b[39m.\u001b[39mtolist()\n\u001b[0;32m   3074\u001b[0m \u001b[39m### there may be duplicates in this list - we need to make them unique by randomly adding strings to name ##\u001b[39;00m\n",
      "File \u001b[1;32mc:\\Users\\Sarita\\AppData\\Local\\Programs\\Python\\Python38\\lib\\re.py:210\u001b[0m, in \u001b[0;36msub\u001b[1;34m(pattern, repl, string, count, flags)\u001b[0m\n\u001b[0;32m    203\u001b[0m \u001b[39mdef\u001b[39;00m \u001b[39msub\u001b[39m(pattern, repl, string, count\u001b[39m=\u001b[39m\u001b[39m0\u001b[39m, flags\u001b[39m=\u001b[39m\u001b[39m0\u001b[39m):\n\u001b[0;32m    204\u001b[0m     \u001b[39m\"\"\"Return the string obtained by replacing the leftmost\u001b[39;00m\n\u001b[0;32m    205\u001b[0m \u001b[39m    non-overlapping occurrences of the pattern in string by the\u001b[39;00m\n\u001b[0;32m    206\u001b[0m \u001b[39m    replacement repl.  repl can be either a string or a callable;\u001b[39;00m\n\u001b[0;32m    207\u001b[0m \u001b[39m    if a string, backslash escapes in it are processed.  If it is\u001b[39;00m\n\u001b[0;32m    208\u001b[0m \u001b[39m    a callable, it's passed the Match object and must return\u001b[39;00m\n\u001b[0;32m    209\u001b[0m \u001b[39m    a replacement string to be used.\"\"\"\u001b[39;00m\n\u001b[1;32m--> 210\u001b[0m     \u001b[39mreturn\u001b[39;00m _compile(pattern, flags)\u001b[39m.\u001b[39;49msub(repl, string, count)\n",
      "\u001b[1;31mTypeError\u001b[0m: expected string or bytes-like object"
     ]
    }
   ],
   "source": [
    "from featurewiz import featurewiz\n",
    "\n",
    "target = \"desertion\" \n",
    "\n",
    "features, data_full = featurewiz(data_prepro, target, corr_limit=0.8, verbose =2, sep=\",\", header= 0, test_data= 2, feature_engg= \"\", category_encoders=\"\")"
   ]
  },
  {
   "cell_type": "code",
   "execution_count": null,
   "id": "97e4dd74",
   "metadata": {},
   "outputs": [],
   "source": [
    "X= data_full.drop([\"desertion\"], axis = 1)\n",
    "y= data_full['desertion']"
   ]
  },
  {
   "cell_type": "markdown",
   "id": "6dd1cf36",
   "metadata": {},
   "source": [
    "# PCA"
   ]
  },
  {
   "cell_type": "code",
   "execution_count": null,
   "id": "bfac6dce",
   "metadata": {},
   "outputs": [],
   "source": [
    "from sklearn.decomposition import PCA\n",
    "\n",
    "pca= PCA(n_components=0.9)\n",
    "\n",
    "X= pca.fit_transform(X)"
   ]
  },
  {
   "cell_type": "code",
   "execution_count": null,
   "id": "ced693a8",
   "metadata": {},
   "outputs": [
    {
     "data": {
      "text/plain": [
       "['0', '1', '2', '3', '4', '5', '6', '7']"
      ]
     },
     "execution_count": 20,
     "metadata": {},
     "output_type": "execute_result"
    }
   ],
   "source": [
    "X= pd.DataFrame(X)\n",
    "cm = list(X.columns)\n",
    "for i in cm:\n",
    "    cm[i]= str(i)\n",
    "cm"
   ]
  },
  {
   "cell_type": "markdown",
   "id": "f3b98fe5",
   "metadata": {},
   "source": [
    "# Models"
   ]
  },
  {
   "cell_type": "markdown",
   "id": "0c300f07",
   "metadata": {},
   "source": [
    "We are gonna use the features selected by featurewiz \n",
    "1. cross validation \n",
    "2. train test split "
   ]
  },
  {
   "cell_type": "markdown",
   "id": "50a04d08",
   "metadata": {},
   "source": [
    "# 1. Cross Validation"
   ]
  },
  {
   "cell_type": "code",
   "execution_count": null,
   "id": "25a8862c",
   "metadata": {},
   "outputs": [],
   "source": [
    "from sklearn.model_selection import cross_val_predict"
   ]
  },
  {
   "cell_type": "code",
   "execution_count": null,
   "id": "a4f4e84b",
   "metadata": {},
   "outputs": [],
   "source": [
    "from sklearn.metrics import accuracy_score\n",
    "from sklearn.metrics import roc_auc_score\n",
    "from sklearn.metrics import recall_score\n",
    "from sklearn.metrics import precision_score\n",
    "from sklearn.metrics import f1_score"
   ]
  },
  {
   "cell_type": "code",
   "execution_count": null,
   "id": "4f08a7e6",
   "metadata": {},
   "outputs": [],
   "source": [
    "def resume_m(y_real, y_pred, model):\n",
    "    \n",
    "    metrics= []\n",
    "    \n",
    "    metrics.append(accuracy_score(y_real, y_pred))   #acc\n",
    "    metrics.append(roc_auc_score(y_real, y_pred))    # auc\n",
    "    metrics.append(recall_score(y_real, y_pred))     #recall\n",
    "    metrics.append(precision_score(y_real, y_pred))  #precision\n",
    "    metrics.append(f1_score(y_real, y_pred))         #f1\n",
    "    \n",
    "    \n",
    "    g= pd.DataFrame(metrics).T\n",
    "    g.columns= ['Accuracy', 'AUC', 'Recall', 'Precision', 'F1']\n",
    "    \n",
    "    g= g.set_axis([model], axis='index')\n",
    "    \n",
    "    return g\n"
   ]
  },
  {
   "cell_type": "markdown",
   "id": "97b48132",
   "metadata": {},
   "source": [
    "## Plot Functions"
   ]
  },
  {
   "cell_type": "code",
   "execution_count": null,
   "id": "a416a715",
   "metadata": {},
   "outputs": [],
   "source": [
    "from sklearn.metrics import roc_curve\n",
    "import matplotlib.pyplot as plt \n",
    "import seaborn as sns\n",
    "from sklearn.metrics import ConfusionMatrixDisplay\n",
    "\n",
    "\n",
    "def plot_roc_curve(fpr, tpr, label=None):\n",
    "    plt.plot(fpr, tpr, linewidth=2, label=label)\n",
    "    plt.plot([0, 1], [0, 1], 'k--') # dashed diagonal\n",
    "    plt.axis([0, 1, 0, 1])                                    \n",
    "    plt.xlabel('False Positive Rate (Fall-Out)', fontsize=16) \n",
    "    plt.ylabel('True Positive Rate (Recall)', fontsize=16)    \n",
    "    plt.grid(True)     "
   ]
  },
  {
   "cell_type": "code",
   "execution_count": null,
   "id": "28043f29",
   "metadata": {},
   "outputs": [],
   "source": [
    "def plot_feature_importance(importance,names,model_type):\n",
    "\n",
    "    #Create arrays from feature importance and feature names\n",
    "    feature_importance = np.array(importance)\n",
    "    feature_names = np.array(names)\n",
    "\n",
    "    #Create a DataFrame using a Dictionary\n",
    "    data={'feature_names':feature_names,'feature_importance':feature_importance}\n",
    "    fi_df = pd.DataFrame(data)\n",
    "\n",
    "    #Sort the DataFrame in order decreasing feature importance\n",
    "    fi_df.sort_values(by=['feature_importance'], ascending=False,inplace=True)\n",
    "\n",
    "    #Define size of bar plot\n",
    "    plt.figure(figsize=(10,8))\n",
    "    #Plot Searborn bar chart\n",
    "    sns.barplot(x=fi_df['feature_importance'], y=fi_df['feature_names'])\n",
    "    #Add chart labels\n",
    "    plt.title(model_type)\n",
    "    plt.xlabel('FEATURE IMPORTANCE')\n",
    "    plt.ylabel('FEATURE NAMES')"
   ]
  },
  {
   "cell_type": "markdown",
   "id": "6bb4234a",
   "metadata": {},
   "source": [
    "## Random Forest"
   ]
  },
  {
   "cell_type": "code",
   "execution_count": null,
   "id": "6a87c904",
   "metadata": {},
   "outputs": [],
   "source": [
    "from sklearn.ensemble import RandomForestClassifier\n",
    "\n",
    "rf= RandomForestClassifier()\n",
    "rf_y_pred = cross_val_predict(rf, X, y, cv=10)"
   ]
  },
  {
   "cell_type": "code",
   "execution_count": null,
   "id": "ef2f3fac",
   "metadata": {
    "scrolled": true
   },
   "outputs": [
    {
     "data": {
      "text/html": [
       "<div>\n",
       "<style scoped>\n",
       "    .dataframe tbody tr th:only-of-type {\n",
       "        vertical-align: middle;\n",
       "    }\n",
       "\n",
       "    .dataframe tbody tr th {\n",
       "        vertical-align: top;\n",
       "    }\n",
       "\n",
       "    .dataframe thead th {\n",
       "        text-align: right;\n",
       "    }\n",
       "</style>\n",
       "<table border=\"1\" class=\"dataframe\">\n",
       "  <thead>\n",
       "    <tr style=\"text-align: right;\">\n",
       "      <th></th>\n",
       "      <th>Accuracy</th>\n",
       "      <th>AUC</th>\n",
       "      <th>Recall</th>\n",
       "      <th>Precision</th>\n",
       "      <th>F1</th>\n",
       "    </tr>\n",
       "  </thead>\n",
       "  <tbody>\n",
       "    <tr>\n",
       "      <th>RandomForest</th>\n",
       "      <td>0.962286</td>\n",
       "      <td>0.962286</td>\n",
       "      <td>0.976</td>\n",
       "      <td>0.949944</td>\n",
       "      <td>0.962796</td>\n",
       "    </tr>\n",
       "  </tbody>\n",
       "</table>\n",
       "</div>"
      ],
      "text/plain": [
       "              Accuracy       AUC  Recall  Precision        F1\n",
       "RandomForest  0.962286  0.962286   0.976   0.949944  0.962796"
      ]
     },
     "execution_count": 27,
     "metadata": {},
     "output_type": "execute_result"
    }
   ],
   "source": [
    "rf_metrics=resume_m(y, rf_y_pred, \"RandomForest\")\n",
    "rf_metrics"
   ]
  },
  {
   "cell_type": "code",
   "execution_count": null,
   "id": "62f5a865",
   "metadata": {},
   "outputs": [
    {
     "data": {
      "image/png": "[encoded data removed]",
      "text/plain": [
       "<Figure size 576x432 with 1 Axes>"
      ]
     },
     "metadata": {
      "needs_background": "light"
     },
     "output_type": "display_data"
    }
   ],
   "source": [
    "fpr, tpr, thresholds = roc_curve(y, rf_y_pred)\n",
    "plt.figure(figsize=(8, 6))                                    \n",
    "plot_roc_curve(fpr, tpr, label=\"Random Forest\")\n",
    "plt.title(\"AUC ROC Curve - Random Forest\", fontsize=16)\n",
    "plt.show()"
   ]
  },
  {
   "cell_type": "code",
   "execution_count": null,
   "id": "b2ab2ec1",
   "metadata": {},
   "outputs": [
    {
     "data": {
      "image/png": "[encoded data removed]",
      "text/plain": [
       "<Figure size 432x288 with 2 Axes>"
      ]
     },
     "metadata": {
      "needs_background": "light"
     },
     "output_type": "display_data"
    }
   ],
   "source": [
    "ConfusionMatrixDisplay.from_predictions(y, rf_y_pred, cmap= 'PuRd')\n",
    "plt.show()"
   ]
  },
  {
   "cell_type": "code",
   "execution_count": null,
   "id": "8c8983f0",
   "metadata": {},
   "outputs": [
    {
     "data": {
      "image/png": "[encoded data removed]",
      "text/plain": [
       "<Figure size 720x576 with 1 Axes>"
      ]
     },
     "metadata": {
      "needs_background": "light"
     },
     "output_type": "display_data"
    }
   ],
   "source": [
    "rf.fit(X,y)\n",
    "plot_feature_importance(rf.feature_importances_, cm, \"Random Forest\")"
   ]
  },
  {
   "cell_type": "markdown",
   "id": "120200a4",
   "metadata": {},
   "source": [
    "## Gradient Boosting "
   ]
  },
  {
   "cell_type": "code",
   "execution_count": null,
   "id": "f918ff2f",
   "metadata": {},
   "outputs": [],
   "source": [
    "from sklearn.ensemble import GradientBoostingClassifier\n",
    "\n",
    "gboc= GradientBoostingClassifier()\n",
    "gboc_y_pred = cross_val_predict(gboc, X, y, cv=10)"
   ]
  },
  {
   "cell_type": "code",
   "execution_count": null,
   "id": "22f40fa0",
   "metadata": {},
   "outputs": [
    {
     "data": {
      "text/html": [
       "<div>\n",
       "<style scoped>\n",
       "    .dataframe tbody tr th:only-of-type {\n",
       "        vertical-align: middle;\n",
       "    }\n",
       "\n",
       "    .dataframe tbody tr th {\n",
       "        vertical-align: top;\n",
       "    }\n",
       "\n",
       "    .dataframe thead th {\n",
       "        text-align: right;\n",
       "    }\n",
       "</style>\n",
       "<table border=\"1\" class=\"dataframe\">\n",
       "  <thead>\n",
       "    <tr style=\"text-align: right;\">\n",
       "      <th></th>\n",
       "      <th>Accuracy</th>\n",
       "      <th>AUC</th>\n",
       "      <th>Recall</th>\n",
       "      <th>Precision</th>\n",
       "      <th>F1</th>\n",
       "    </tr>\n",
       "  </thead>\n",
       "  <tbody>\n",
       "    <tr>\n",
       "      <th>Gradient Boosting</th>\n",
       "      <td>0.946286</td>\n",
       "      <td>0.946286</td>\n",
       "      <td>0.953143</td>\n",
       "      <td>0.940248</td>\n",
       "      <td>0.946652</td>\n",
       "    </tr>\n",
       "  </tbody>\n",
       "</table>\n",
       "</div>"
      ],
      "text/plain": [
       "                   Accuracy       AUC    Recall  Precision        F1\n",
       "Gradient Boosting  0.946286  0.946286  0.953143   0.940248  0.946652"
      ]
     },
     "execution_count": 32,
     "metadata": {},
     "output_type": "execute_result"
    }
   ],
   "source": [
    "gboc_metrics=resume_m(y, gboc_y_pred, \"Gradient Boosting\")\n",
    "gboc_metrics"
   ]
  },
  {
   "cell_type": "code",
   "execution_count": null,
   "id": "b8283e8e",
   "metadata": {},
   "outputs": [
    {
     "data": {
      "image/png": "[encoded data removed]",
      "text/plain": [
       "<Figure size 576x432 with 1 Axes>"
      ]
     },
     "metadata": {
      "needs_background": "light"
     },
     "output_type": "display_data"
    }
   ],
   "source": [
    "fpr, tpr, thresholds = roc_curve(y, gboc_y_pred)\n",
    "\n",
    "plt.figure(figsize=(8, 6))                                    \n",
    "plot_roc_curve(fpr, tpr, label=\"Gradient Boosting\")\n",
    "plt.title(\"AUC ROC Curve - Gradient Boosting\", fontsize=16)\n",
    "plt.show()"
   ]
  },
  {
   "cell_type": "code",
   "execution_count": null,
   "id": "178606d2",
   "metadata": {},
   "outputs": [
    {
     "data": {
      "image/png": "[encoded data removed]",
      "text/plain": [
       "<Figure size 432x288 with 2 Axes>"
      ]
     },
     "metadata": {
      "needs_background": "light"
     },
     "output_type": "display_data"
    }
   ],
   "source": [
    "ConfusionMatrixDisplay.from_predictions(y, gboc_y_pred, cmap= 'PuRd')\n",
    "plt.show()"
   ]
  },
  {
   "cell_type": "code",
   "execution_count": null,
   "id": "a4f2abff",
   "metadata": {},
   "outputs": [
    {
     "data": {
      "image/png": "[encoded data removed]",
      "text/plain": [
       "<Figure size 720x576 with 1 Axes>"
      ]
     },
     "metadata": {
      "needs_background": "light"
     },
     "output_type": "display_data"
    }
   ],
   "source": [
    "gboc.fit(X,y)\n",
    "plot_feature_importance(gboc.feature_importances_, cm, \"Gradient Boosting\")"
   ]
  },
  {
   "cell_type": "markdown",
   "id": "3217e05b",
   "metadata": {},
   "source": [
    "## AdaBoost"
   ]
  },
  {
   "cell_type": "code",
   "execution_count": null,
   "id": "8b1390e4",
   "metadata": {},
   "outputs": [],
   "source": [
    "from sklearn.ensemble import AdaBoostClassifier\n",
    "\n",
    "ada= AdaBoostClassifier(random_state=42)\n",
    "ada_y_pred= cross_val_predict(ada, X, y, cv=10)"
   ]
  },
  {
   "cell_type": "code",
   "execution_count": null,
   "id": "bba95d26",
   "metadata": {},
   "outputs": [
    {
     "data": {
      "text/html": [
       "<div>\n",
       "<style scoped>\n",
       "    .dataframe tbody tr th:only-of-type {\n",
       "        vertical-align: middle;\n",
       "    }\n",
       "\n",
       "    .dataframe tbody tr th {\n",
       "        vertical-align: top;\n",
       "    }\n",
       "\n",
       "    .dataframe thead th {\n",
       "        text-align: right;\n",
       "    }\n",
       "</style>\n",
       "<table border=\"1\" class=\"dataframe\">\n",
       "  <thead>\n",
       "    <tr style=\"text-align: right;\">\n",
       "      <th></th>\n",
       "      <th>Accuracy</th>\n",
       "      <th>AUC</th>\n",
       "      <th>Recall</th>\n",
       "      <th>Precision</th>\n",
       "      <th>F1</th>\n",
       "    </tr>\n",
       "  </thead>\n",
       "  <tbody>\n",
       "    <tr>\n",
       "      <th>AdaBoostClassifier</th>\n",
       "      <td>0.933143</td>\n",
       "      <td>0.933143</td>\n",
       "      <td>0.924571</td>\n",
       "      <td>0.940698</td>\n",
       "      <td>0.932565</td>\n",
       "    </tr>\n",
       "  </tbody>\n",
       "</table>\n",
       "</div>"
      ],
      "text/plain": [
       "                    Accuracy       AUC    Recall  Precision        F1\n",
       "AdaBoostClassifier  0.933143  0.933143  0.924571   0.940698  0.932565"
      ]
     },
     "execution_count": 37,
     "metadata": {},
     "output_type": "execute_result"
    }
   ],
   "source": [
    "ada_metrics=resume_m(y, ada_y_pred, \"AdaBoostClassifier\")\n",
    "ada_metrics"
   ]
  },
  {
   "cell_type": "code",
   "execution_count": null,
   "id": "24dc2ff8",
   "metadata": {},
   "outputs": [
    {
     "data": {
      "image/png": "[encoded data removed]",
      "text/plain": [
       "<Figure size 576x432 with 1 Axes>"
      ]
     },
     "metadata": {
      "needs_background": "light"
     },
     "output_type": "display_data"
    }
   ],
   "source": [
    "fpr, tpr, thresholds = roc_curve(y, ada_y_pred)\n",
    "\n",
    "plt.figure(figsize=(8, 6))                                    \n",
    "plot_roc_curve(fpr, tpr, label=\"AdaBoost\")\n",
    "plt.title(\"AUC ROC Curve - AdaBoost\", fontsize=16)\n",
    "plt.show()"
   ]
  },
  {
   "cell_type": "code",
   "execution_count": null,
   "id": "c40a522f",
   "metadata": {},
   "outputs": [
    {
     "data": {
      "image/png": "[encoded data removed]",
      "text/plain": [
       "<Figure size 432x288 with 2 Axes>"
      ]
     },
     "metadata": {
      "needs_background": "light"
     },
     "output_type": "display_data"
    }
   ],
   "source": [
    "ConfusionMatrixDisplay.from_predictions(y, ada_y_pred, cmap= 'PuRd')\n",
    "plt.show()"
   ]
  },
  {
   "cell_type": "code",
   "execution_count": null,
   "id": "a7de7cd6",
   "metadata": {},
   "outputs": [
    {
     "data": {
      "image/png": "[encoded data removed]",
      "text/plain": [
       "<Figure size 720x576 with 1 Axes>"
      ]
     },
     "metadata": {
      "needs_background": "light"
     },
     "output_type": "display_data"
    }
   ],
   "source": [
    "ada.fit(X,y)\n",
    "plot_feature_importance(ada.feature_importances_, cm, \"AdaBoost\")"
   ]
  },
  {
   "cell_type": "markdown",
   "id": "46332ae8",
   "metadata": {},
   "source": [
    "# RESUME OF THE EXPERIMENT"
   ]
  },
  {
   "cell_type": "code",
   "execution_count": null,
   "id": "0f143f14",
   "metadata": {},
   "outputs": [
    {
     "data": {
      "text/html": [
       "<div>\n",
       "<style scoped>\n",
       "    .dataframe tbody tr th:only-of-type {\n",
       "        vertical-align: middle;\n",
       "    }\n",
       "\n",
       "    .dataframe tbody tr th {\n",
       "        vertical-align: top;\n",
       "    }\n",
       "\n",
       "    .dataframe thead th {\n",
       "        text-align: right;\n",
       "    }\n",
       "</style>\n",
       "<table border=\"1\" class=\"dataframe\">\n",
       "  <thead>\n",
       "    <tr style=\"text-align: right;\">\n",
       "      <th></th>\n",
       "      <th>Accuracy</th>\n",
       "      <th>AUC</th>\n",
       "      <th>Recall</th>\n",
       "      <th>Precision</th>\n",
       "      <th>F1</th>\n",
       "    </tr>\n",
       "  </thead>\n",
       "  <tbody>\n",
       "    <tr>\n",
       "      <th>AdaBoostClassifier</th>\n",
       "      <td>0.933143</td>\n",
       "      <td>0.933143</td>\n",
       "      <td>0.924571</td>\n",
       "      <td>0.940698</td>\n",
       "      <td>0.932565</td>\n",
       "    </tr>\n",
       "    <tr>\n",
       "      <th>Gradient Boosting</th>\n",
       "      <td>0.946286</td>\n",
       "      <td>0.946286</td>\n",
       "      <td>0.953143</td>\n",
       "      <td>0.940248</td>\n",
       "      <td>0.946652</td>\n",
       "    </tr>\n",
       "    <tr>\n",
       "      <th>RandomForest</th>\n",
       "      <td>0.962286</td>\n",
       "      <td>0.962286</td>\n",
       "      <td>0.976000</td>\n",
       "      <td>0.949944</td>\n",
       "      <td>0.962796</td>\n",
       "    </tr>\n",
       "  </tbody>\n",
       "</table>\n",
       "</div>"
      ],
      "text/plain": [
       "                    Accuracy       AUC    Recall  Precision        F1\n",
       "AdaBoostClassifier  0.933143  0.933143  0.924571   0.940698  0.932565\n",
       "Gradient Boosting   0.946286  0.946286  0.953143   0.940248  0.946652\n",
       "RandomForest        0.962286  0.962286  0.976000   0.949944  0.962796"
      ]
     },
     "execution_count": 41,
     "metadata": {},
     "output_type": "execute_result"
    }
   ],
   "source": [
    "resum= pd.concat((ada_metrics, gboc_metrics),axis =0)\n",
    "resum= pd.concat((resum, rf_metrics),axis =0)\n",
    "resum"
   ]
  }
 ],
 "metadata": {
  "kernelspec": {
   "display_name": "Python 3.8.10 64-bit",
   "language": "python",
   "name": "python3"
  },
  "language_info": {
   "codemirror_mode": {
    "name": "ipython",
    "version": 3
   },
   "file_extension": ".py",
   "mimetype": "text/x-python",
   "name": "python",
   "nbconvert_exporter": "python",
   "pygments_lexer": "ipython3",
   "version": "3.8.10"
  },
  "vscode": {
   "interpreter": {
    "hash": "525c43a737c6f14265b547c19b4d5c8fc3f898a7ebbfa15cd0d8b9390ac769a6"
   }
  }
 },
 "nbformat": 4,
 "nbformat_minor": 5
}
