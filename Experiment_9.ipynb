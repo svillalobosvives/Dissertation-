{
 "cells": [
  {
   "cell_type": "code",
   "execution_count": 1,
   "id": "a8eb937a",
   "metadata": {},
   "outputs": [],
   "source": [
    "import pandas as pd\n",
    "import numpy as np"
   ]
  },
  {
   "cell_type": "code",
   "execution_count": 2,
   "id": "6c0688a8",
   "metadata": {},
   "outputs": [],
   "source": [
    "from sklearn.impute import SimpleImputer\n",
    "\n",
    "data_uni_2 = pd.read_csv(\"data_uni.csv\")\n",
    "\n",
    "data_uni_2.iloc[:, [24,25,29]]= data_uni_2.iloc[:, [24,25,29]].fillna(0)\n",
    "column_miss= list(data_uni_2.columns[data_uni_2.isnull().any()])\n",
    "\n",
    "# IMPUTER ===========================================================================\n",
    "\n",
    "imputer = SimpleImputer(missing_values=np.nan, strategy='most_frequent')\n",
    "\n",
    "data_uni_2[column_miss]= imputer.fit_transform(data_uni_2[column_miss])\n",
    "\n",
    "data_uni_2= data_uni_2.drop([\"Course\",\"AWM year 1\", \"AWM year 2\", \"AWM year 3\", \"Overall AWM\"], axis = 1)\n",
    "\n",
    "# FORMATING MANUALLY ================================================================\n",
    "\n",
    "#ethinicty binarisation \n",
    "data_uni_2.Ethnicity = data_uni_2.Ethnicity.str.replace(\"White\", \"0\")\n",
    "data_uni_2.Ethnicity = data_uni_2.Ethnicity.str.replace(\"Asian\", \"1\")\n",
    "data_uni_2.Ethnicity = data_uni_2.Ethnicity.str.replace(\"Black/Black British African\", \"1\")\n",
    "data_uni_2.Ethnicity = data_uni_2.Ethnicity.str.replace(\"Other ethnic background\", \"1\")\n",
    "\n",
    "# Polar 4 Score Binarisation\n",
    "data_uni_2.Polar_4_Score = data_uni_2.Polar_4_Score.replace(5, 0)\n",
    "data_uni_2.Polar_4_Score = data_uni_2.Polar_4_Score.replace(4, 0)\n",
    "data_uni_2.Polar_4_Score = data_uni_2.Polar_4_Score.replace(3, 0)\n",
    "data_uni_2.Polar_4_Score = data_uni_2.Polar_4_Score.replace(2, 1)\n",
    "\n",
    "#splitting X and y ==================================================================\n",
    "y = data_uni_2[\"desertion\"]\n",
    "X = data_uni_2.drop([\"desertion\"], axis = 1)\n"
   ]
  },
  {
   "cell_type": "markdown",
   "id": "1af1760f",
   "metadata": {},
   "source": [
    "### Categorical and numeric features"
   ]
  },
  {
   "cell_type": "code",
   "execution_count": 3,
   "id": "ce7eff1b",
   "metadata": {},
   "outputs": [
    {
     "data": {
      "text/plain": [
       "Index(['UCAS', '25 Above', 'Disability', 'Ethnicity', 'Gender', 'British',\n",
       "       'English native Language', 'Parent He attendance', 'Polar_4_Score',\n",
       "       'SLC', 'Care Leaver', 'Student Visa', 'Refugee',\n",
       "       'London Permanent Residence', 'UCAS Points', 'English', 'Maths',\n",
       "       'A Levels', 'Btec', 'Previous work', 'Bursary', 'Attendance',\n",
       "       'Progression', 'First Sit', 'Second Sit', 'Fails', 'No Submissions',\n",
       "       'Late Submission', 'Pass', 'Re Takes'],\n",
       "      dtype='object')"
      ]
     },
     "execution_count": 3,
     "metadata": {},
     "output_type": "execute_result"
    }
   ],
   "source": [
    "X.columns"
   ]
  },
  {
   "cell_type": "code",
   "execution_count": 4,
   "id": "1127d093",
   "metadata": {},
   "outputs": [],
   "source": [
    "fe_num= ['UCAS Points', 'English', 'Maths', 'Attendance', 'First Sit', \n",
    "         'Second Sit', 'Fails', 'No Submissions', 'Late Submission',\n",
    "        'Pass']"
   ]
  },
  {
   "cell_type": "code",
   "execution_count": 5,
   "id": "5cab221b",
   "metadata": {},
   "outputs": [],
   "source": [
    "fe_cat= ['UCAS', '25 Above', 'Disability', 'Ethnicity', 'Gender',\n",
    "       'British', 'English native Language', 'Parent He attendance',\n",
    "       'Polar_4_Score', 'SLC', 'Care Leaver', 'Student Visa', 'Refugee',\n",
    "       'London Permanent Residence', 'A Levels', 'Btec', 'Previous work', 'Bursary',\n",
    "        'Progression', 'Re Takes']"
   ]
  },
  {
   "cell_type": "markdown",
   "id": "9d282599",
   "metadata": {},
   "source": [
    "## Scaling"
   ]
  },
  {
   "cell_type": "code",
   "execution_count": 6,
   "id": "797fff3b",
   "metadata": {},
   "outputs": [],
   "source": [
    "# we are going to scale just the continous ones which are\n",
    "fe_num_cont= ['UCAS Points', 'Attendance', 'Pass']\n",
    "\n",
    "# let the following without changes\n",
    "fe_num_no= ['English','Maths', 'First Sit', 'Second Sit', 'Fails', 'No Submissions', 'Late Submission']"
   ]
  },
  {
   "cell_type": "code",
   "execution_count": 7,
   "id": "41284e07",
   "metadata": {},
   "outputs": [],
   "source": [
    "from sklearn.preprocessing import StandardScaler\n",
    "\n",
    "sc = StandardScaler()\n",
    "\n",
    "x_num_cont= pd.DataFrame(sc.fit_transform(X[fe_num_cont]))\n",
    "x_num_cont.columns= X[fe_num_cont].columns\n",
    "#x_num_cont"
   ]
  },
  {
   "cell_type": "code",
   "execution_count": 8,
   "id": "9552ae07",
   "metadata": {},
   "outputs": [],
   "source": [
    "X_num = pd.concat((x_num_cont, X[fe_num_no]), axis =1)\n",
    "#X_num"
   ]
  },
  {
   "cell_type": "markdown",
   "id": "024de8c0",
   "metadata": {},
   "source": [
    "## OneHotEncoder"
   ]
  },
  {
   "cell_type": "code",
   "execution_count": 9,
   "id": "e33adb26",
   "metadata": {},
   "outputs": [],
   "source": [
    "from sklearn.preprocessing import OneHotEncoder\n",
    "\n",
    "enc = OneHotEncoder(handle_unknown= \"error\", sparse = False, drop = \"if_binary\")\n",
    "X_cat = pd.DataFrame(enc.fit_transform(X[fe_cat]))\n",
    "X_cat.columns= enc.get_feature_names_out()\n",
    "#X_cat"
   ]
  },
  {
   "cell_type": "code",
   "execution_count": 10,
   "id": "f90fa93b",
   "metadata": {},
   "outputs": [],
   "source": [
    "x_num_cat= pd.concat((X_num, X_cat), axis =1)\n",
    "#x_num_cat"
   ]
  },
  {
   "cell_type": "markdown",
   "id": "c0d6395b",
   "metadata": {},
   "source": [
    "## y encoder"
   ]
  },
  {
   "cell_type": "code",
   "execution_count": 11,
   "id": "50389ddd",
   "metadata": {},
   "outputs": [],
   "source": [
    "#Encoding dependent Variable\n",
    "from sklearn.preprocessing import LabelEncoder\n",
    "\n",
    "le = LabelEncoder()\n",
    "y_enc = le.fit_transform(y)\n",
    "y_enc= pd.DataFrame(y_enc, columns=[\"desertion\"])\n",
    "#y_enc"
   ]
  },
  {
   "cell_type": "code",
   "execution_count": 12,
   "id": "765b2d00",
   "metadata": {},
   "outputs": [
    {
     "data": {
      "text/html": [
       "<div>\n",
       "<style scoped>\n",
       "    .dataframe tbody tr th:only-of-type {\n",
       "        vertical-align: middle;\n",
       "    }\n",
       "\n",
       "    .dataframe tbody tr th {\n",
       "        vertical-align: top;\n",
       "    }\n",
       "\n",
       "    .dataframe thead th {\n",
       "        text-align: right;\n",
       "    }\n",
       "</style>\n",
       "<table border=\"1\" class=\"dataframe\">\n",
       "  <thead>\n",
       "    <tr style=\"text-align: right;\">\n",
       "      <th></th>\n",
       "      <th>desertion</th>\n",
       "    </tr>\n",
       "  </thead>\n",
       "  <tbody>\n",
       "    <tr>\n",
       "      <th>0</th>\n",
       "      <td>0</td>\n",
       "    </tr>\n",
       "    <tr>\n",
       "      <th>1</th>\n",
       "      <td>1</td>\n",
       "    </tr>\n",
       "    <tr>\n",
       "      <th>2</th>\n",
       "      <td>1</td>\n",
       "    </tr>\n",
       "    <tr>\n",
       "      <th>3</th>\n",
       "      <td>1</td>\n",
       "    </tr>\n",
       "    <tr>\n",
       "      <th>4</th>\n",
       "      <td>0</td>\n",
       "    </tr>\n",
       "    <tr>\n",
       "      <th>...</th>\n",
       "      <td>...</td>\n",
       "    </tr>\n",
       "    <tr>\n",
       "      <th>1028</th>\n",
       "      <td>1</td>\n",
       "    </tr>\n",
       "    <tr>\n",
       "      <th>1029</th>\n",
       "      <td>0</td>\n",
       "    </tr>\n",
       "    <tr>\n",
       "      <th>1030</th>\n",
       "      <td>1</td>\n",
       "    </tr>\n",
       "    <tr>\n",
       "      <th>1031</th>\n",
       "      <td>0</td>\n",
       "    </tr>\n",
       "    <tr>\n",
       "      <th>1032</th>\n",
       "      <td>0</td>\n",
       "    </tr>\n",
       "  </tbody>\n",
       "</table>\n",
       "<p>1033 rows × 1 columns</p>\n",
       "</div>"
      ],
      "text/plain": [
       "      desertion\n",
       "0             0\n",
       "1             1\n",
       "2             1\n",
       "3             1\n",
       "4             0\n",
       "...         ...\n",
       "1028          1\n",
       "1029          0\n",
       "1030          1\n",
       "1031          0\n",
       "1032          0\n",
       "\n",
       "[1033 rows x 1 columns]"
      ]
     },
     "execution_count": 12,
     "metadata": {},
     "output_type": "execute_result"
    }
   ],
   "source": [
    "y_enc"
   ]
  },
  {
   "cell_type": "markdown",
   "id": "9ebf8e78",
   "metadata": {},
   "source": [
    "# SMOTE"
   ]
  },
  {
   "cell_type": "code",
   "execution_count": 13,
   "id": "90220cb6",
   "metadata": {},
   "outputs": [],
   "source": [
    "from imblearn.over_sampling import SMOTE\n",
    "from collections import Counter\n",
    "\n",
    "sm = SMOTE(random_state=42)\n",
    "x_res, y_res = sm.fit_resample(x_num_cat, y_enc)"
   ]
  },
  {
   "cell_type": "code",
   "execution_count": 14,
   "id": "59072501",
   "metadata": {},
   "outputs": [
    {
     "data": {
      "text/plain": [
       "desertion\n",
       "0            875\n",
       "1            875\n",
       "dtype: int64"
      ]
     },
     "execution_count": 14,
     "metadata": {},
     "output_type": "execute_result"
    }
   ],
   "source": [
    "y_res.value_counts()"
   ]
  },
  {
   "cell_type": "code",
   "execution_count": 29,
   "id": "bbdadc26",
   "metadata": {},
   "outputs": [
    {
     "data": {
      "text/plain": [
       "Index(['UCAS Points', 'Attendance', 'Pass', 'English', 'Maths', 'First Sit',\n",
       "       'Second Sit', 'Fails', 'No Submissions', 'Late Submission', 'UCAS_yes',\n",
       "       '25 Above_yes', 'Disability_yes', 'Ethnicity_1', 'Gender_Male',\n",
       "       'British_yes', 'English native Language_yes', 'Parent He attendance_NO',\n",
       "       'Parent He attendance_no', 'Parent He attendance_yes',\n",
       "       'Polar_4_Score_1.0', 'SLC_yes', 'Care Leaver_yes', 'Student Visa_yes',\n",
       "       'Refugee_yes', 'London Permanent Residence_yes', 'A Levels_yes',\n",
       "       'Btec_yes', 'Previous work_yes', 'Bursary_yes', 'Progression_yes',\n",
       "       'Re Takes_yes'],\n",
       "      dtype='object')"
      ]
     },
     "execution_count": 29,
     "metadata": {},
     "output_type": "execute_result"
    }
   ],
   "source": [
    "x_res.columns"
   ]
  },
  {
   "cell_type": "markdown",
   "id": "644b59ca",
   "metadata": {},
   "source": [
    "# Feature Selection"
   ]
  },
  {
   "cell_type": "code",
   "execution_count": 15,
   "id": "27daa9af",
   "metadata": {},
   "outputs": [
    {
     "data": {
      "text/html": [
       "<div>\n",
       "<style scoped>\n",
       "    .dataframe tbody tr th:only-of-type {\n",
       "        vertical-align: middle;\n",
       "    }\n",
       "\n",
       "    .dataframe tbody tr th {\n",
       "        vertical-align: top;\n",
       "    }\n",
       "\n",
       "    .dataframe thead th {\n",
       "        text-align: right;\n",
       "    }\n",
       "</style>\n",
       "<table border=\"1\" class=\"dataframe\">\n",
       "  <thead>\n",
       "    <tr style=\"text-align: right;\">\n",
       "      <th></th>\n",
       "      <th>UCAS Points</th>\n",
       "      <th>Attendance</th>\n",
       "      <th>Pass</th>\n",
       "      <th>English</th>\n",
       "      <th>Maths</th>\n",
       "      <th>First Sit</th>\n",
       "      <th>Second Sit</th>\n",
       "      <th>Fails</th>\n",
       "      <th>No Submissions</th>\n",
       "      <th>Late Submission</th>\n",
       "      <th>...</th>\n",
       "      <th>Student Visa_yes</th>\n",
       "      <th>Refugee_yes</th>\n",
       "      <th>London Permanent Residence_yes</th>\n",
       "      <th>A Levels_yes</th>\n",
       "      <th>Btec_yes</th>\n",
       "      <th>Previous work_yes</th>\n",
       "      <th>Bursary_yes</th>\n",
       "      <th>Progression_yes</th>\n",
       "      <th>Re Takes_yes</th>\n",
       "      <th>desertion</th>\n",
       "    </tr>\n",
       "  </thead>\n",
       "  <tbody>\n",
       "    <tr>\n",
       "      <th>0</th>\n",
       "      <td>-0.524646</td>\n",
       "      <td>0.693727</td>\n",
       "      <td>0.420941</td>\n",
       "      <td>5.0</td>\n",
       "      <td>4.0</td>\n",
       "      <td>3</td>\n",
       "      <td>3.000000</td>\n",
       "      <td>0</td>\n",
       "      <td>2</td>\n",
       "      <td>2</td>\n",
       "      <td>...</td>\n",
       "      <td>1.0</td>\n",
       "      <td>0.0</td>\n",
       "      <td>1.000000</td>\n",
       "      <td>1.000000</td>\n",
       "      <td>0.000000</td>\n",
       "      <td>1.0</td>\n",
       "      <td>0.000000</td>\n",
       "      <td>1.0</td>\n",
       "      <td>1.0</td>\n",
       "      <td>0</td>\n",
       "    </tr>\n",
       "    <tr>\n",
       "      <th>1</th>\n",
       "      <td>-0.373711</td>\n",
       "      <td>-1.276930</td>\n",
       "      <td>-0.423655</td>\n",
       "      <td>5.0</td>\n",
       "      <td>5.0</td>\n",
       "      <td>1</td>\n",
       "      <td>2.000000</td>\n",
       "      <td>5</td>\n",
       "      <td>3</td>\n",
       "      <td>0</td>\n",
       "      <td>...</td>\n",
       "      <td>0.0</td>\n",
       "      <td>0.0</td>\n",
       "      <td>0.000000</td>\n",
       "      <td>1.000000</td>\n",
       "      <td>0.000000</td>\n",
       "      <td>1.0</td>\n",
       "      <td>1.000000</td>\n",
       "      <td>0.0</td>\n",
       "      <td>0.0</td>\n",
       "      <td>1</td>\n",
       "    </tr>\n",
       "    <tr>\n",
       "      <th>2</th>\n",
       "      <td>1.035022</td>\n",
       "      <td>-1.149791</td>\n",
       "      <td>0.420941</td>\n",
       "      <td>4.0</td>\n",
       "      <td>4.0</td>\n",
       "      <td>6</td>\n",
       "      <td>0.000000</td>\n",
       "      <td>0</td>\n",
       "      <td>0</td>\n",
       "      <td>0</td>\n",
       "      <td>...</td>\n",
       "      <td>0.0</td>\n",
       "      <td>0.0</td>\n",
       "      <td>1.000000</td>\n",
       "      <td>1.000000</td>\n",
       "      <td>0.000000</td>\n",
       "      <td>1.0</td>\n",
       "      <td>0.000000</td>\n",
       "      <td>1.0</td>\n",
       "      <td>0.0</td>\n",
       "      <td>1</td>\n",
       "    </tr>\n",
       "    <tr>\n",
       "      <th>3</th>\n",
       "      <td>0.079096</td>\n",
       "      <td>-1.721917</td>\n",
       "      <td>0.420941</td>\n",
       "      <td>9.0</td>\n",
       "      <td>8.0</td>\n",
       "      <td>6</td>\n",
       "      <td>0.000000</td>\n",
       "      <td>0</td>\n",
       "      <td>0</td>\n",
       "      <td>0</td>\n",
       "      <td>...</td>\n",
       "      <td>0.0</td>\n",
       "      <td>0.0</td>\n",
       "      <td>1.000000</td>\n",
       "      <td>1.000000</td>\n",
       "      <td>0.000000</td>\n",
       "      <td>1.0</td>\n",
       "      <td>0.000000</td>\n",
       "      <td>1.0</td>\n",
       "      <td>0.0</td>\n",
       "      <td>1</td>\n",
       "    </tr>\n",
       "    <tr>\n",
       "      <th>4</th>\n",
       "      <td>1.085334</td>\n",
       "      <td>0.503018</td>\n",
       "      <td>0.420941</td>\n",
       "      <td>6.0</td>\n",
       "      <td>5.0</td>\n",
       "      <td>4</td>\n",
       "      <td>2.000000</td>\n",
       "      <td>0</td>\n",
       "      <td>2</td>\n",
       "      <td>0</td>\n",
       "      <td>...</td>\n",
       "      <td>0.0</td>\n",
       "      <td>0.0</td>\n",
       "      <td>1.000000</td>\n",
       "      <td>1.000000</td>\n",
       "      <td>0.000000</td>\n",
       "      <td>1.0</td>\n",
       "      <td>0.000000</td>\n",
       "      <td>1.0</td>\n",
       "      <td>0.0</td>\n",
       "      <td>0</td>\n",
       "    </tr>\n",
       "    <tr>\n",
       "      <th>...</th>\n",
       "      <td>...</td>\n",
       "      <td>...</td>\n",
       "      <td>...</td>\n",
       "      <td>...</td>\n",
       "      <td>...</td>\n",
       "      <td>...</td>\n",
       "      <td>...</td>\n",
       "      <td>...</td>\n",
       "      <td>...</td>\n",
       "      <td>...</td>\n",
       "      <td>...</td>\n",
       "      <td>...</td>\n",
       "      <td>...</td>\n",
       "      <td>...</td>\n",
       "      <td>...</td>\n",
       "      <td>...</td>\n",
       "      <td>...</td>\n",
       "      <td>...</td>\n",
       "      <td>...</td>\n",
       "      <td>...</td>\n",
       "      <td>...</td>\n",
       "    </tr>\n",
       "    <tr>\n",
       "      <th>1745</th>\n",
       "      <td>-0.597912</td>\n",
       "      <td>-1.298534</td>\n",
       "      <td>0.420941</td>\n",
       "      <td>6.0</td>\n",
       "      <td>5.135944</td>\n",
       "      <td>4</td>\n",
       "      <td>2.000000</td>\n",
       "      <td>0</td>\n",
       "      <td>0</td>\n",
       "      <td>0</td>\n",
       "      <td>...</td>\n",
       "      <td>0.0</td>\n",
       "      <td>0.0</td>\n",
       "      <td>1.000000</td>\n",
       "      <td>1.000000</td>\n",
       "      <td>0.000000</td>\n",
       "      <td>0.0</td>\n",
       "      <td>0.000000</td>\n",
       "      <td>1.0</td>\n",
       "      <td>0.0</td>\n",
       "      <td>1</td>\n",
       "    </tr>\n",
       "    <tr>\n",
       "      <th>1746</th>\n",
       "      <td>0.579690</td>\n",
       "      <td>-0.991664</td>\n",
       "      <td>0.420941</td>\n",
       "      <td>3.10251</td>\n",
       "      <td>2.205019</td>\n",
       "      <td>6</td>\n",
       "      <td>0.000000</td>\n",
       "      <td>0</td>\n",
       "      <td>0</td>\n",
       "      <td>0</td>\n",
       "      <td>...</td>\n",
       "      <td>0.0</td>\n",
       "      <td>0.0</td>\n",
       "      <td>0.897490</td>\n",
       "      <td>0.102510</td>\n",
       "      <td>0.897490</td>\n",
       "      <td>1.0</td>\n",
       "      <td>0.000000</td>\n",
       "      <td>1.0</td>\n",
       "      <td>0.0</td>\n",
       "      <td>1</td>\n",
       "    </tr>\n",
       "    <tr>\n",
       "      <th>1747</th>\n",
       "      <td>0.383907</td>\n",
       "      <td>-1.749849</td>\n",
       "      <td>-2.112847</td>\n",
       "      <td>3.937228</td>\n",
       "      <td>4.937228</td>\n",
       "      <td>4</td>\n",
       "      <td>1.874457</td>\n",
       "      <td>3</td>\n",
       "      <td>1</td>\n",
       "      <td>0</td>\n",
       "      <td>...</td>\n",
       "      <td>0.0</td>\n",
       "      <td>0.0</td>\n",
       "      <td>0.000000</td>\n",
       "      <td>0.062772</td>\n",
       "      <td>1.000000</td>\n",
       "      <td>1.0</td>\n",
       "      <td>0.937228</td>\n",
       "      <td>0.0</td>\n",
       "      <td>0.0</td>\n",
       "      <td>1</td>\n",
       "    </tr>\n",
       "    <tr>\n",
       "      <th>1748</th>\n",
       "      <td>-1.179011</td>\n",
       "      <td>-1.145744</td>\n",
       "      <td>-2.112847</td>\n",
       "      <td>5.312114</td>\n",
       "      <td>4.687886</td>\n",
       "      <td>2</td>\n",
       "      <td>1.000000</td>\n",
       "      <td>3</td>\n",
       "      <td>1</td>\n",
       "      <td>0</td>\n",
       "      <td>...</td>\n",
       "      <td>0.0</td>\n",
       "      <td>0.0</td>\n",
       "      <td>1.000000</td>\n",
       "      <td>1.000000</td>\n",
       "      <td>0.000000</td>\n",
       "      <td>0.0</td>\n",
       "      <td>0.000000</td>\n",
       "      <td>0.0</td>\n",
       "      <td>0.0</td>\n",
       "      <td>1</td>\n",
       "    </tr>\n",
       "    <tr>\n",
       "      <th>1749</th>\n",
       "      <td>-0.625270</td>\n",
       "      <td>-0.074536</td>\n",
       "      <td>0.420941</td>\n",
       "      <td>5.864326</td>\n",
       "      <td>4.0</td>\n",
       "      <td>3</td>\n",
       "      <td>2.932163</td>\n",
       "      <td>0</td>\n",
       "      <td>1</td>\n",
       "      <td>0</td>\n",
       "      <td>...</td>\n",
       "      <td>0.0</td>\n",
       "      <td>0.0</td>\n",
       "      <td>0.932163</td>\n",
       "      <td>0.000000</td>\n",
       "      <td>0.067837</td>\n",
       "      <td>1.0</td>\n",
       "      <td>0.000000</td>\n",
       "      <td>1.0</td>\n",
       "      <td>0.0</td>\n",
       "      <td>1</td>\n",
       "    </tr>\n",
       "  </tbody>\n",
       "</table>\n",
       "<p>1750 rows × 33 columns</p>\n",
       "</div>"
      ],
      "text/plain": [
       "      UCAS Points  Attendance      Pass   English     Maths  First Sit  \\\n",
       "0       -0.524646    0.693727  0.420941       5.0       4.0          3   \n",
       "1       -0.373711   -1.276930 -0.423655       5.0       5.0          1   \n",
       "2        1.035022   -1.149791  0.420941       4.0       4.0          6   \n",
       "3        0.079096   -1.721917  0.420941       9.0       8.0          6   \n",
       "4        1.085334    0.503018  0.420941       6.0       5.0          4   \n",
       "...           ...         ...       ...       ...       ...        ...   \n",
       "1745    -0.597912   -1.298534  0.420941       6.0  5.135944          4   \n",
       "1746     0.579690   -0.991664  0.420941   3.10251  2.205019          6   \n",
       "1747     0.383907   -1.749849 -2.112847  3.937228  4.937228          4   \n",
       "1748    -1.179011   -1.145744 -2.112847  5.312114  4.687886          2   \n",
       "1749    -0.625270   -0.074536  0.420941  5.864326       4.0          3   \n",
       "\n",
       "      Second Sit  Fails  No Submissions  Late Submission  ...  \\\n",
       "0       3.000000      0               2                2  ...   \n",
       "1       2.000000      5               3                0  ...   \n",
       "2       0.000000      0               0                0  ...   \n",
       "3       0.000000      0               0                0  ...   \n",
       "4       2.000000      0               2                0  ...   \n",
       "...          ...    ...             ...              ...  ...   \n",
       "1745    2.000000      0               0                0  ...   \n",
       "1746    0.000000      0               0                0  ...   \n",
       "1747    1.874457      3               1                0  ...   \n",
       "1748    1.000000      3               1                0  ...   \n",
       "1749    2.932163      0               1                0  ...   \n",
       "\n",
       "      Student Visa_yes  Refugee_yes  London Permanent Residence_yes  \\\n",
       "0                  1.0          0.0                        1.000000   \n",
       "1                  0.0          0.0                        0.000000   \n",
       "2                  0.0          0.0                        1.000000   \n",
       "3                  0.0          0.0                        1.000000   \n",
       "4                  0.0          0.0                        1.000000   \n",
       "...                ...          ...                             ...   \n",
       "1745               0.0          0.0                        1.000000   \n",
       "1746               0.0          0.0                        0.897490   \n",
       "1747               0.0          0.0                        0.000000   \n",
       "1748               0.0          0.0                        1.000000   \n",
       "1749               0.0          0.0                        0.932163   \n",
       "\n",
       "      A Levels_yes  Btec_yes  Previous work_yes  Bursary_yes  Progression_yes  \\\n",
       "0         1.000000  0.000000                1.0     0.000000              1.0   \n",
       "1         1.000000  0.000000                1.0     1.000000              0.0   \n",
       "2         1.000000  0.000000                1.0     0.000000              1.0   \n",
       "3         1.000000  0.000000                1.0     0.000000              1.0   \n",
       "4         1.000000  0.000000                1.0     0.000000              1.0   \n",
       "...            ...       ...                ...          ...              ...   \n",
       "1745      1.000000  0.000000                0.0     0.000000              1.0   \n",
       "1746      0.102510  0.897490                1.0     0.000000              1.0   \n",
       "1747      0.062772  1.000000                1.0     0.937228              0.0   \n",
       "1748      1.000000  0.000000                0.0     0.000000              0.0   \n",
       "1749      0.000000  0.067837                1.0     0.000000              1.0   \n",
       "\n",
       "      Re Takes_yes  desertion  \n",
       "0              1.0          0  \n",
       "1              0.0          1  \n",
       "2              0.0          1  \n",
       "3              0.0          1  \n",
       "4              0.0          0  \n",
       "...            ...        ...  \n",
       "1745           0.0          1  \n",
       "1746           0.0          1  \n",
       "1747           0.0          1  \n",
       "1748           0.0          1  \n",
       "1749           0.0          1  \n",
       "\n",
       "[1750 rows x 33 columns]"
      ]
     },
     "execution_count": 15,
     "metadata": {},
     "output_type": "execute_result"
    }
   ],
   "source": [
    "data_prepro= pd.concat((x_res, y_res), axis =1)\n",
    "data_prepro"
   ]
  },
  {
   "cell_type": "code",
   "execution_count": 16,
   "id": "5da8c074",
   "metadata": {},
   "outputs": [
    {
     "name": "stdout",
     "output_type": "stream",
     "text": [
      "Imported 0.1.991 version. Select nrows to a small number when running on huge datasets.\n",
      "output = featurewiz(dataname, target, corr_limit=0.70, verbose=2, sep=',', \n",
      "\t\theader=0, test_data='',feature_engg='', category_encoders='',\n",
      "\t\tdask_xgboost_flag=False, nrows=None)\n",
      "Create new features via 'feature_engg' flag : ['interactions','groupby','target']\n",
      "\n",
      "############################################################################################\n",
      "############       F A S T   F E A T U R E  E N G G    A N D    S E L E C T I O N ! ########\n",
      "# Be judicious with featurewiz. Don't use it to create too many un-interpretable features! #\n",
      "############################################################################################\n",
      "Skipping feature engineering since no feature_engg input...\n",
      "Skipping category encoding since no category encoders specified in input...\n",
      "    Shape of your Data Set loaded: (1750, 33)\n",
      "    Loaded train data. Shape = (1750, 33)\n",
      "    Some column names had special characters which were removed...\n",
      "loading the entire test dataframe - there is no nrows limit applicable #########\n",
      "Dataname input must be a filename with path to that file or a Dataframe\n",
      "#######################################################################################\n",
      "######################## C L A S S I F Y I N G  V A R I A B L E S  ####################\n",
      "#######################################################################################\n",
      "        2 variable(s) to be removed since ID or low-information variables\n",
      "    \tvariables removed = ['English', 'Maths']\n",
      "train data shape before dropping 2 columns = (1750, 33)\n",
      "\ttrain data shape after dropping columns = (1750, 31)\n",
      "    Converted pandas dataframe into a Dask dataframe ...\n",
      "No GPU active on this device\n",
      "    Tuning XGBoost using CPU hyper-parameters. This will take time...\n",
      "    After removing redundant variables from further processing, features left = 30\n",
      "No interactions created for categorical vars since feature engg does not specify it\n",
      "#### Single_Label Binary_Classification problem ####\n",
      "#######################################################################################\n",
      "#####  Searching for Uncorrelated List Of Variables (SULOV) in 30 features ############\n",
      "#######################################################################################\n",
      "    there are no null values in dataset...\n",
      "    Removing (2) highly correlated variables:\n",
      "    ['ParentHeattendance_no', 'Progression_yes']\n",
      "    Following (28) vars selected: ['UCASPoints', 'Attendance', 'FirstSit', 'SecondSit', 'NoSubmissions', 'LateSubmission', 'UCAS_yes', '25Above_yes', 'Disability_yes', 'Ethnicity_1', 'Gender_Male', 'British_yes', 'EnglishnativeLanguage_yes', 'ParentHeattendance_NO', 'Polar_4_Score_10', 'SLC_yes', 'CareLeaver_yes', 'StudentVisa_yes', 'Refugee_yes', 'LondonPermanentResidence_yes', 'ALevels_yes', 'Btec_yes', 'Previouswork_yes', 'Bursary_yes', 'ReTakes_yes', 'Pass', 'Fails', 'ParentHeattendance_yes']\n"
     ]
    },
    {
     "data": {
      "image/png": "[encoded data removed]",
      "text/plain": [
       "<Figure size 1080x360 with 1 Axes>"
      ]
     },
     "metadata": {},
     "output_type": "display_data"
    },
    {
     "name": "stdout",
     "output_type": "stream",
     "text": [
      "Time taken for SULOV method = 0 seconds\n",
      "    Adding 0 categorical variables to reduced numeric variables  of 28\n",
      "Final list of selected vars after SULOV = 28\n",
      "Readying dataset for Recursive XGBoost by converting all features to numeric...\n",
      "#######################################################################################\n",
      "#####    R E C U R S I V E   X G B O O S T : F E A T U R E   S E L E C T I O N  #######\n",
      "#######################################################################################\n",
      "    using regular XGBoost\n",
      "Current number of predictors = 28 \n",
      "    XGBoost version using 1.6.2 as tree method: hist\n",
      "Number of booster rounds = 100\n",
      "        using 28 variables...\n",
      "            Time taken for regular XGBoost feature selection = 0 seconds\n",
      "        using 22 variables...\n",
      "            Time taken for regular XGBoost feature selection = 0 seconds\n",
      "        using 16 variables...\n",
      "            Time taken for regular XGBoost feature selection = 0 seconds\n",
      "        using 10 variables...\n",
      "            Time taken for regular XGBoost feature selection = 0 seconds\n",
      "        using 4 variables...\n",
      "            Time taken for regular XGBoost feature selection = 0 seconds\n"
     ]
    },
    {
     "data": {
      "image/png": "[encoded data removed]",
      "text/plain": [
       "<Figure size 720x1080 with 6 Axes>"
      ]
     },
     "metadata": {
      "needs_background": "light"
     },
     "output_type": "display_data"
    },
    {
     "name": "stdout",
     "output_type": "stream",
     "text": [
      "    Completed XGBoost feature selection in 1 seconds\n",
      "#######################################################################################\n",
      "#####          F E A T U R E   S E L E C T I O N   C O M P L E T E D            #######\n",
      "#######################################################################################\n",
      "Selected 18 important features:\n",
      "['Attendance', 'Bursary_yes', 'Polar_4_Score_10', 'ParentHeattendance_yes', 'StudentVisa_yes', 'FirstSit', 'Ethnicity_1', 'UCAS_yes', 'Pass', 'Previouswork_yes', 'Refugee_yes', 'ReTakes_yes', 'CareLeaver_yes', 'EnglishnativeLanguage_yes', 'ALevels_yes', 'Btec_yes', 'LondonPermanentResidence_yes', 'Fails']\n",
      "Total Time taken for featurewiz selection = 2 seconds\n",
      "Output contains a list of 18 important features and a train dataframe\n"
     ]
    }
   ],
   "source": [
    "from featurewiz import featurewiz\n",
    "\n",
    "target = \"desertion\" \n",
    "\n",
    "features, data_full = featurewiz(data_prepro, target, corr_limit=0.8, verbose =2, sep=\",\", header= 0, test_data= 2, feature_engg= \"\", category_encoders=\"\")"
   ]
  },
  {
   "cell_type": "code",
   "execution_count": 17,
   "id": "97e4dd74",
   "metadata": {},
   "outputs": [],
   "source": [
    "X= data_full.drop([\"desertion\"], axis = 1)\n",
    "y= data_full['desertion']"
   ]
  },
  {
   "cell_type": "markdown",
   "id": "f3b98fe5",
   "metadata": {},
   "source": [
    "# Models"
   ]
  },
  {
   "cell_type": "markdown",
   "id": "0c300f07",
   "metadata": {},
   "source": [
    "We are gonna use the features selected by featurewiz \n",
    "1. cross validation \n",
    "2. train test split "
   ]
  },
  {
   "cell_type": "markdown",
   "id": "50a04d08",
   "metadata": {},
   "source": [
    "# 1. Cross Validation"
   ]
  },
  {
   "cell_type": "code",
   "execution_count": 18,
   "id": "25a8862c",
   "metadata": {},
   "outputs": [],
   "source": [
    "from sklearn.model_selection import cross_val_predict"
   ]
  },
  {
   "cell_type": "code",
   "execution_count": 19,
   "id": "a4f4e84b",
   "metadata": {},
   "outputs": [],
   "source": [
    "from sklearn.metrics import accuracy_score\n",
    "from sklearn.metrics import roc_auc_score\n",
    "from sklearn.metrics import recall_score\n",
    "from sklearn.metrics import precision_score\n",
    "from sklearn.metrics import f1_score"
   ]
  },
  {
   "cell_type": "code",
   "execution_count": 20,
   "id": "4f08a7e6",
   "metadata": {},
   "outputs": [],
   "source": [
    "def resume_m(y_real, y_pred, model):\n",
    "    \n",
    "    metrics= []\n",
    "    \n",
    "    metrics.append(accuracy_score(y_real, y_pred))   #acc\n",
    "    metrics.append(roc_auc_score(y_real, y_pred))    # auc\n",
    "    metrics.append(recall_score(y_real, y_pred))     #recall\n",
    "    metrics.append(precision_score(y_real, y_pred))  #precision\n",
    "    metrics.append(f1_score(y_real, y_pred))         #f1\n",
    "    \n",
    "    \n",
    "    g= pd.DataFrame(metrics).T\n",
    "    g.columns= ['Accuracy', 'AUC', 'Recall', 'Precision', 'F1']\n",
    "    \n",
    "    g= g.set_axis([model], axis='index')\n",
    "    \n",
    "    return g\n"
   ]
  },
  {
   "cell_type": "markdown",
   "id": "6bb4234a",
   "metadata": {},
   "source": [
    "## Random Forest"
   ]
  },
  {
   "cell_type": "code",
   "execution_count": 21,
   "id": "6a87c904",
   "metadata": {},
   "outputs": [],
   "source": [
    "from sklearn.ensemble import RandomForestClassifier\n",
    "\n",
    "rf= RandomForestClassifier()\n",
    "rf_y_pred = cross_val_predict(rf, X, y, cv=10)"
   ]
  },
  {
   "cell_type": "code",
   "execution_count": 22,
   "id": "ef2f3fac",
   "metadata": {
    "scrolled": true
   },
   "outputs": [
    {
     "data": {
      "text/html": [
       "<div>\n",
       "<style scoped>\n",
       "    .dataframe tbody tr th:only-of-type {\n",
       "        vertical-align: middle;\n",
       "    }\n",
       "\n",
       "    .dataframe tbody tr th {\n",
       "        vertical-align: top;\n",
       "    }\n",
       "\n",
       "    .dataframe thead th {\n",
       "        text-align: right;\n",
       "    }\n",
       "</style>\n",
       "<table border=\"1\" class=\"dataframe\">\n",
       "  <thead>\n",
       "    <tr style=\"text-align: right;\">\n",
       "      <th></th>\n",
       "      <th>Accuracy</th>\n",
       "      <th>AUC</th>\n",
       "      <th>Recall</th>\n",
       "      <th>Precision</th>\n",
       "      <th>F1</th>\n",
       "    </tr>\n",
       "  </thead>\n",
       "  <tbody>\n",
       "    <tr>\n",
       "      <th>RandomForest</th>\n",
       "      <td>0.981714</td>\n",
       "      <td>0.981714</td>\n",
       "      <td>0.981714</td>\n",
       "      <td>0.981714</td>\n",
       "      <td>0.981714</td>\n",
       "    </tr>\n",
       "  </tbody>\n",
       "</table>\n",
       "</div>"
      ],
      "text/plain": [
       "              Accuracy       AUC    Recall  Precision        F1\n",
       "RandomForest  0.981714  0.981714  0.981714   0.981714  0.981714"
      ]
     },
     "execution_count": 22,
     "metadata": {},
     "output_type": "execute_result"
    }
   ],
   "source": [
    "rf_metrics=resume_m(y, rf_y_pred, \"RandomForest\")\n",
    "rf_metrics"
   ]
  },
  {
   "cell_type": "markdown",
   "id": "120200a4",
   "metadata": {},
   "source": [
    "## Gradient Boosting "
   ]
  },
  {
   "cell_type": "code",
   "execution_count": 23,
   "id": "f918ff2f",
   "metadata": {},
   "outputs": [],
   "source": [
    "from sklearn.ensemble import GradientBoostingClassifier\n",
    "\n",
    "gboc= GradientBoostingClassifier()\n",
    "gboc_y_pred = cross_val_predict(gboc, X, y, cv=10)"
   ]
  },
  {
   "cell_type": "code",
   "execution_count": 24,
   "id": "22f40fa0",
   "metadata": {},
   "outputs": [
    {
     "data": {
      "text/html": [
       "<div>\n",
       "<style scoped>\n",
       "    .dataframe tbody tr th:only-of-type {\n",
       "        vertical-align: middle;\n",
       "    }\n",
       "\n",
       "    .dataframe tbody tr th {\n",
       "        vertical-align: top;\n",
       "    }\n",
       "\n",
       "    .dataframe thead th {\n",
       "        text-align: right;\n",
       "    }\n",
       "</style>\n",
       "<table border=\"1\" class=\"dataframe\">\n",
       "  <thead>\n",
       "    <tr style=\"text-align: right;\">\n",
       "      <th></th>\n",
       "      <th>Accuracy</th>\n",
       "      <th>AUC</th>\n",
       "      <th>Recall</th>\n",
       "      <th>Precision</th>\n",
       "      <th>F1</th>\n",
       "    </tr>\n",
       "  </thead>\n",
       "  <tbody>\n",
       "    <tr>\n",
       "      <th>Gradient Boosting</th>\n",
       "      <td>0.977714</td>\n",
       "      <td>0.977714</td>\n",
       "      <td>0.971429</td>\n",
       "      <td>0.983796</td>\n",
       "      <td>0.977573</td>\n",
       "    </tr>\n",
       "  </tbody>\n",
       "</table>\n",
       "</div>"
      ],
      "text/plain": [
       "                   Accuracy       AUC    Recall  Precision        F1\n",
       "Gradient Boosting  0.977714  0.977714  0.971429   0.983796  0.977573"
      ]
     },
     "execution_count": 24,
     "metadata": {},
     "output_type": "execute_result"
    }
   ],
   "source": [
    "gboc_metrics=resume_m(y, gboc_y_pred, \"Gradient Boosting\")\n",
    "gboc_metrics"
   ]
  },
  {
   "cell_type": "markdown",
   "id": "3217e05b",
   "metadata": {},
   "source": [
    "## AdaBoost"
   ]
  },
  {
   "cell_type": "code",
   "execution_count": 25,
   "id": "8b1390e4",
   "metadata": {},
   "outputs": [],
   "source": [
    "from sklearn.ensemble import AdaBoostClassifier\n",
    "\n",
    "ada= AdaBoostClassifier(random_state=42)\n",
    "ada_y_pred= cross_val_predict(ada, X, y, cv=10)"
   ]
  },
  {
   "cell_type": "code",
   "execution_count": 26,
   "id": "bba95d26",
   "metadata": {},
   "outputs": [
    {
     "data": {
      "text/html": [
       "<div>\n",
       "<style scoped>\n",
       "    .dataframe tbody tr th:only-of-type {\n",
       "        vertical-align: middle;\n",
       "    }\n",
       "\n",
       "    .dataframe tbody tr th {\n",
       "        vertical-align: top;\n",
       "    }\n",
       "\n",
       "    .dataframe thead th {\n",
       "        text-align: right;\n",
       "    }\n",
       "</style>\n",
       "<table border=\"1\" class=\"dataframe\">\n",
       "  <thead>\n",
       "    <tr style=\"text-align: right;\">\n",
       "      <th></th>\n",
       "      <th>Accuracy</th>\n",
       "      <th>AUC</th>\n",
       "      <th>Recall</th>\n",
       "      <th>Precision</th>\n",
       "      <th>F1</th>\n",
       "    </tr>\n",
       "  </thead>\n",
       "  <tbody>\n",
       "    <tr>\n",
       "      <th>AdaBoostClassifier</th>\n",
       "      <td>0.971429</td>\n",
       "      <td>0.971429</td>\n",
       "      <td>0.966857</td>\n",
       "      <td>0.975779</td>\n",
       "      <td>0.971297</td>\n",
       "    </tr>\n",
       "  </tbody>\n",
       "</table>\n",
       "</div>"
      ],
      "text/plain": [
       "                    Accuracy       AUC    Recall  Precision        F1\n",
       "AdaBoostClassifier  0.971429  0.971429  0.966857   0.975779  0.971297"
      ]
     },
     "execution_count": 26,
     "metadata": {},
     "output_type": "execute_result"
    }
   ],
   "source": [
    "ada_metrics=resume_m(y, ada_y_pred, \"AdaBoostClassifier\")\n",
    "ada_metrics"
   ]
  },
  {
   "cell_type": "code",
   "execution_count": 27,
   "id": "0f143f14",
   "metadata": {},
   "outputs": [
    {
     "data": {
      "text/html": [
       "<div>\n",
       "<style scoped>\n",
       "    .dataframe tbody tr th:only-of-type {\n",
       "        vertical-align: middle;\n",
       "    }\n",
       "\n",
       "    .dataframe tbody tr th {\n",
       "        vertical-align: top;\n",
       "    }\n",
       "\n",
       "    .dataframe thead th {\n",
       "        text-align: right;\n",
       "    }\n",
       "</style>\n",
       "<table border=\"1\" class=\"dataframe\">\n",
       "  <thead>\n",
       "    <tr style=\"text-align: right;\">\n",
       "      <th></th>\n",
       "      <th>Accuracy</th>\n",
       "      <th>AUC</th>\n",
       "      <th>Recall</th>\n",
       "      <th>Precision</th>\n",
       "      <th>F1</th>\n",
       "    </tr>\n",
       "  </thead>\n",
       "  <tbody>\n",
       "    <tr>\n",
       "      <th>AdaBoostClassifier</th>\n",
       "      <td>0.971429</td>\n",
       "      <td>0.971429</td>\n",
       "      <td>0.966857</td>\n",
       "      <td>0.975779</td>\n",
       "      <td>0.971297</td>\n",
       "    </tr>\n",
       "    <tr>\n",
       "      <th>Gradient Boosting</th>\n",
       "      <td>0.977714</td>\n",
       "      <td>0.977714</td>\n",
       "      <td>0.971429</td>\n",
       "      <td>0.983796</td>\n",
       "      <td>0.977573</td>\n",
       "    </tr>\n",
       "    <tr>\n",
       "      <th>RandomForest</th>\n",
       "      <td>0.981714</td>\n",
       "      <td>0.981714</td>\n",
       "      <td>0.981714</td>\n",
       "      <td>0.981714</td>\n",
       "      <td>0.981714</td>\n",
       "    </tr>\n",
       "  </tbody>\n",
       "</table>\n",
       "</div>"
      ],
      "text/plain": [
       "                    Accuracy       AUC    Recall  Precision        F1\n",
       "AdaBoostClassifier  0.971429  0.971429  0.966857   0.975779  0.971297\n",
       "Gradient Boosting   0.977714  0.977714  0.971429   0.983796  0.977573\n",
       "RandomForest        0.981714  0.981714  0.981714   0.981714  0.981714"
      ]
     },
     "execution_count": 27,
     "metadata": {},
     "output_type": "execute_result"
    }
   ],
   "source": [
    "resum= pd.concat((ada_metrics, gboc_metrics),axis =0)\n",
    "resum= pd.concat((resum, rf_metrics),axis =0)\n",
    "resum"
   ]
  },
  {
   "cell_type": "code",
   "execution_count": null,
   "id": "1ef08dc6",
   "metadata": {},
   "outputs": [],
   "source": []
  }
 ],
 "metadata": {
  "kernelspec": {
   "display_name": "Python 3.8.10 64-bit",
   "language": "python",
   "name": "python3"
  },
  "language_info": {
   "codemirror_mode": {
    "name": "ipython",
    "version": 3
   },
   "file_extension": ".py",
   "mimetype": "text/x-python",
   "name": "python",
   "nbconvert_exporter": "python",
   "pygments_lexer": "ipython3",
   "version": "3.8.10"
  },
  "vscode": {
   "interpreter": {
    "hash": "525c43a737c6f14265b547c19b4d5c8fc3f898a7ebbfa15cd0d8b9390ac769a6"
   }
  }
 },
 "nbformat": 4,
 "nbformat_minor": 5
}
